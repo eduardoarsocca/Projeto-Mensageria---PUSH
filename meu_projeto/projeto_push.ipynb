{
 "cells": [
  {
   "cell_type": "code",
   "execution_count": null,
   "metadata": {},
   "outputs": [],
   "source": [
    "# import pandas as pd\n",
    "# def tabela(df_protocolo):\n",
    "#     return df_protocolo.head(10)\n",
    "\n",
    "# # Criando o arquivo com codificação UTF-8\n",
    "# with open('tabela_protocolo.py', 'w', encoding='utf-8') as f:\n",
    "#     f.write(\"\"\"\n",
    "# import pandas as pd\n",
    "# def tabela(df_protocolo):\n",
    "#     return df_protocolo.head(10)\n",
    "# \"\"\")\n"
   ]
  },
  {
   "cell_type": "markdown",
   "metadata": {},
   "source": [
    "# 1 Importando as bibliotecas"
   ]
  },
  {
   "cell_type": "code",
   "execution_count": null,
   "metadata": {},
   "outputs": [],
   "source": [
    "\n",
    "import smtplib\n",
    "from email.mime.multipart import MIMEMultipart\n",
    "from email.mime.text import MIMEText\n",
    "from email.mime.image import MIMEImage\n",
    "from email.mime.base import MIMEBase\n",
    "from email import encoders\n",
    "import pandas as pd\n",
    "import numpy as np\n",
    "import matplotlib.pyplot as plt\n",
    "import seaborn as sns\n",
    "import plotly.express as px\n",
    "import plotly.graph_objects as go\n",
    "import os\n",
    "from dotenv import load_dotenv\n",
    "import requests\n",
    "from urllib.parse import urljoin\n",
    "from datetime import datetime, timedelta\n",
    "import io\n",
    "from io import BytesIO\n",
    "import base64\n",
    "from email.mime.image import MIMEImage\n",
    "import openpyxl\n",
    "from dateutil.relativedelta import relativedelta"
   ]
  },
  {
   "cell_type": "markdown",
   "metadata": {},
   "source": [
    "# 2. Abrindo a sessão na polotrial"
   ]
  },
  {
   "cell_type": "code",
   "execution_count": null,
   "metadata": {},
   "outputs": [],
   "source": [
    "# carregando os dados de acesso à api\n",
    "load_dotenv()\n",
    "\n",
    "api_username = os.getenv('API_USERNAME')\n",
    "api_password = os.getenv('API_PASSWORD')\n",
    "api_url = os.getenv(\"API_URL\")"
   ]
  },
  {
   "cell_type": "code",
   "execution_count": null,
   "metadata": {},
   "outputs": [],
   "source": [
    "# Corpo do login a ser utilizado no acesso\n",
    "body = {\n",
    "    \"nome\": api_username,\n",
    "    \"password\":api_password\n",
    "}\n",
    "\n",
    "# Obtençao do token de acesso à polotrial\n",
    "auth_url = urljoin(api_url, \"/sessions\")\n",
    "\n",
    "response = requests.post(auth_url, json = body)\n",
    "\n",
    "# Verificar a resposta\n",
    "print(f\"Status Code: {response.status_code}\")\n",
    "print(f\"Headers: {response.headers}\")\n",
    "print(f\"Content: {response.text}\")"
   ]
  },
  {
   "cell_type": "code",
   "execution_count": null,
   "metadata": {},
   "outputs": [],
   "source": [
    "# Extraindo o token\n",
    "token = response.json()[\"token\"]\n",
    "\n",
    "# Incorporando a string Bearer para inserir\n",
    "if token:\n",
    "    auth_token = \"Bearer \" + token\n",
    "    print(f\"Auth Token: {auth_token}\")\n",
    "else:\n",
    "    print(\"Falha ao obter o token.\")"
   ]
  },
  {
   "cell_type": "code",
   "execution_count": null,
   "metadata": {},
   "outputs": [],
   "source": [
    "url_request = \"https://api.polotrial.com\"\n",
    "\n",
    "headers = {\"Authorization\": auth_token}"
   ]
  },
  {
   "cell_type": "markdown",
   "metadata": {},
   "source": [
    "# 3. Funções globais"
   ]
  },
  {
   "cell_type": "code",
   "execution_count": null,
   "metadata": {},
   "outputs": [],
   "source": [
    "# TODO: Carregar as variáveis de ambiente\n",
    "load_dotenv(override=True)\n",
    "\n",
    "api_username = os.getenv('API_USERNAME')\n",
    "api_password = os.getenv('API_PASSWORD')\n",
    "api_url = os.getenv(\"API_URL\")\n",
    "\n",
    "# TODO: Configurações do e-mail\n",
    "enviar_para = os.getenv('DESTINATARIO')\n",
    "print(f\"Valor original do DESTINATARIO: {enviar_para}\")\n",
    "if enviar_para:\n",
    "    enviar_para = [email.strip() for email in enviar_para.split(',')]\n",
    "else:\n",
    "    enviar_para = []\n",
    "username_email = os.getenv('EMAIL_USERNAME')\n",
    "password_email = os.getenv('EMAIL_PASSWORD')\n",
    "server_email = os.getenv('EMAIL_SERVER')\n",
    "port_email = int(os.getenv('EMAIL_PORT'))\n",
    "\n",
    "\n",
    "# TODO: funções globais\n",
    "# Obter o mês e o ano do mês atual menos 1 ano\n",
    "mes_atual = datetime.now().month - 0\n",
    "ano_atual = datetime.now().year\n",
    "ano_anterior = datetime.now().year - 1\n",
    "mes_anterior = datetime.now().month - 1\n",
    "proximas_duas_semanas = (datetime.now()+timedelta(days=15)).strftime('%Y-%m-%d')\n",
    "duas_ultimas_semanas = (datetime.now()-timedelta(days=15))\n",
    "ultima_semana = (datetime.now() - timedelta(days=7))\n",
    "proxima_semana = (datetime.now()+timedelta(days=7))\n",
    "amanha = (datetime.now()+timedelta(days=0))\n",
    "dois_ultimos_anos = (datetime.now()-timedelta(days=730)).date()\n",
    "\n",
    "# TODO: Configuração CSS\n",
    "css_hover = \"\"\"\n",
    "<style>\n",
    "    tr:hover {\n",
    "        background-color: #EC0E73 !important;\n",
    "        color: #FFFFFF;\n",
    "    }\n",
    "    div {\n",
    "        margin: 40px 0px 40px 0 px;\n",
    "        overflow-x:auto;\n",
    "    }\n",
    "    h1 {\n",
    "  font-size: 30px;\n",
    "    }\n",
    "\n",
    "    h2 {\n",
    "    font-size: 20px;\n",
    "    }\n",
    "\n",
    "    p {\n",
    "    font-size: 16px;\n",
    "    }\n",
    "    \n",
    "    th {\n",
    "        font-size: 16px;\n",
    "        font-weight: bold;\n",
    "        background-color: #041266;\n",
    "        color: #FFFFFF;\n",
    "        white-space: nowrap;\n",
    "    }\n",
    "    td {\n",
    "        font-size: 14px \n",
    "    }\n",
    "</style>\n",
    "\n",
    "\"\"\"    "
   ]
  },
  {
   "cell_type": "code",
   "execution_count": null,
   "metadata": {},
   "outputs": [],
   "source": [
    "# load_dotenv(override=True)\n",
    "# enviar_para = os.getenv('DESTINATARIO')\n",
    "# print(f\"Valor original do DESTINATARIO: {enviar_para}\")\n",
    "\n",
    "# if enviar_para:\n",
    "#     enviar_para = [email.strip() for email in enviar_para.split(',')]\n",
    "# else:\n",
    "#     enviar_para = []\n",
    "# print(enviar_para)"
   ]
  },
  {
   "cell_type": "code",
   "execution_count": null,
   "metadata": {},
   "outputs": [],
   "source": [
    "def extrair_ultima_informacao(x):\n",
    "    if x is None:\n",
    "        return None\n",
    "    else:\n",
    "        values_list = list(x.values())\n",
    "        if len(values_list) == 0:\n",
    "            return None\n",
    "        else:\n",
    "            return values_list[-1]"
   ]
  },
  {
   "cell_type": "code",
   "execution_count": null,
   "metadata": {},
   "outputs": [],
   "source": [
    "mes_atual = datetime.now().month - 0\n",
    "ano_atual = datetime.now().year\n",
    "ano_anterior = datetime.now().year - 1\n",
    "proximas_duas_semanas = (datetime.now()+timedelta(days=180)).strftime('%Y-%m-%d')\n",
    "duas_ultimas_semanas = (datetime.now()-timedelta(days=15))\n",
    "proxima_semana = (datetime.now()+timedelta(days=7)).strftime('%Y-%m-%d')\n",
    "amanha = (datetime.now()+timedelta(days=0))"
   ]
  },
  {
   "cell_type": "code",
   "execution_count": null,
   "metadata": {},
   "outputs": [],
   "source": [
    "pd.options.display.max_columns=None"
   ]
  },
  {
   "cell_type": "code",
   "execution_count": null,
   "metadata": {},
   "outputs": [],
   "source": [
    "def extrair_ultima_informacao(x):\n",
    "    if x is None:\n",
    "        return None\n",
    "    else:\n",
    "        values_list = list(x.values())\n",
    "        if len(values_list) == 0:\n",
    "            return None\n",
    "        else:\n",
    "            return values_list[-1]\n",
    "\n",
    "\n",
    "def extrair_segunda_informacao(x):\n",
    "    if x is None:\n",
    "        return None\n",
    "    else:\n",
    "        values_list = list(x.values())\n",
    "        if len(values_list) == 0:\n",
    "            return None\n",
    "        else:\n",
    "            return values_list[1]\n",
    "        \n",
    "def extrair_terceira_informacao(x):\n",
    "    if x is None:\n",
    "        return None\n",
    "    else:\n",
    "        values_list = list(x.values())\n",
    "        if len(values_list) == 0:\n",
    "            return None\n",
    "        else:\n",
    "            return values_list[2] if len(values_list) > 2 else None\n",
    "\n",
    "        \n",
    "def extrair_apelido_protocolo(x):\n",
    "    if x is None:\n",
    "        return None\n",
    "    elif 'apelido_protocolo' in x:\n",
    "        return x['apelido_protocolo']\n",
    "    else:\n",
    "        return None\n",
    "    \n",
    "    \n",
    "def extrair_campo(x, *chaves):\n",
    "# \"\"\"\n",
    "# Extrai um campo aninhado de um dicionário dado um conjunto de chaves.\n",
    "# :param x: O dicionário de entrada.\n",
    "# :param chaves: Chaves para navegar no dicionário.\n",
    "# :return: O valor extraído ou None se a navegação falhar.\n",
    "# \"\"\"\n",
    "    if isinstance(x, dict):\n",
    "        for chave in chaves:\n",
    "            x = x.get(chave)\n",
    "            if x is None:\n",
    "                return None\n",
    "        return x\n",
    "    return None"
   ]
  },
  {
   "cell_type": "markdown",
   "metadata": {},
   "source": [
    "# 4. Protocolos"
   ]
  },
  {
   "cell_type": "code",
   "execution_count": null,
   "metadata": {},
   "outputs": [],
   "source": [
    "rota_protocolo = url_request+\"/protocolo?nested=true\"\n",
    "df_protocolo = requests.get(rota_protocolo, headers = headers).json()\n",
    "df_protocolo = pd.DataFrame(df_protocolo)"
   ]
  },
  {
   "cell_type": "code",
   "execution_count": null,
   "metadata": {},
   "outputs": [],
   "source": [
    "rota_generica = url_request+\"/generica?nested=true\"\n",
    "df_generica = requests.get(rota_generica, headers = headers).json()\n",
    "df_generica = pd.DataFrame(df_generica)"
   ]
  },
  {
   "cell_type": "markdown",
   "metadata": {},
   "source": [
    "# Assinatura de TCLE"
   ]
  },
  {
   "cell_type": "code",
   "execution_count": null,
   "metadata": {},
   "outputs": [],
   "source": [
    "rota_participantes = url_request+\"/participantes?nested=true\"\n",
    "df_participantes = requests.get(rota_participantes, headers = headers).json()\n",
    "df_participantes = pd.DataFrame(df_participantes)"
   ]
  },
  {
   "cell_type": "code",
   "execution_count": null,
   "metadata": {},
   "outputs": [],
   "source": [
    "\n",
    "rota_visita_procedimentos = url_request+\"/power_bi_participante_visita_procedimento\"\n",
    "df_visita_procedimentos = requests.get(rota_visita_procedimentos, headers = headers).json()\n",
    "df_visita_procedimentos = pd.DataFrame(df_visita_procedimentos)\n"
   ]
  },
  {
   "cell_type": "code",
   "execution_count": null,
   "metadata": {},
   "outputs": [],
   "source": [
    "rota_pagamento = url_request+\"/pagamento\"\n",
    "df_pagamento = requests.get(rota_pagamento, headers = headers).json()\n",
    "df_pagamento = pd.DataFrame(df_pagamento)"
   ]
  },
  {
   "cell_type": "markdown",
   "metadata": {},
   "source": [
    "# Procedimentos Visita "
   ]
  },
  {
   "cell_type": "code",
   "execution_count": null,
   "metadata": {},
   "outputs": [],
   "source": [
    "# rota_participante_visita = url_request+\"/participante_visita?nested=true\"\n",
    "# df_participante_visita = requests.get(rota_participante_visita, headers = headers).json()\n",
    "# df_participante_visita = pd.DataFrame(df_participante_visita)"
   ]
  },
  {
   "cell_type": "code",
   "execution_count": null,
   "metadata": {},
   "outputs": [],
   "source": [
    "rota_participante_visita = url_request+\"/participante_visita?nested=true\"\n",
    "df_participante_visita = requests.get(rota_participante_visita, headers=headers).json()\n",
    "df_participante_visita = pd.DataFrame(df_participante_visita)"
   ]
  },
  {
   "cell_type": "markdown",
   "metadata": {},
   "source": [
    "# FLOWCHART"
   ]
  },
  {
   "cell_type": "code",
   "execution_count": null,
   "metadata": {},
   "outputs": [],
   "source": [
    "rota_flowchart = url_request+\"/protocolo_flowchart\"\n",
    "df_flowchart = requests.get(rota_flowchart, headers = headers).json()\n",
    "df_flowchart = pd.DataFrame(df_flowchart)"
   ]
  },
  {
   "cell_type": "markdown",
   "metadata": {},
   "source": [
    "# Protocolo Financeiro"
   ]
  },
  {
   "cell_type": "code",
   "execution_count": null,
   "metadata": {},
   "outputs": [],
   "source": [
    "rota_protocolo_financeiro = url_request+\"/protocolo_financeiro?nested=true\"\n",
    "df_protocolo_financeiro = requests.get(rota_protocolo_financeiro, headers = headers).json()\n",
    "df_protocolo_financeiro = pd.DataFrame(df_protocolo_financeiro)"
   ]
  },
  {
   "cell_type": "markdown",
   "metadata": {},
   "source": [
    "# Invoices/NF com Status Pendente ou Pago que estejam duplicadas"
   ]
  },
  {
   "cell_type": "code",
   "execution_count": null,
   "metadata": {},
   "outputs": [],
   "source": [
    "rota_recebimento = api_url + \"/recebimento?nested=true\"\n",
    "df_recebimento = requests.get(rota_recebimento, headers = headers).json()\n",
    "df_recebimento = pd.DataFrame(df_recebimento)"
   ]
  },
  {
   "cell_type": "code",
   "execution_count": null,
   "metadata": {},
   "outputs": [],
   "source": [
    "# dim_recebimentos = df_recebimento.copy()"
   ]
  },
  {
   "cell_type": "code",
   "execution_count": null,
   "metadata": {},
   "outputs": [],
   "source": [
    "# colunas_a_extrair_recebimento=[\n",
    "#     'dados_protocolo',\n",
    "#     'dados_status_invoice',\n",
    "#     'dados_moeda'\n",
    "# ]\n",
    "\n",
    "# for coluna in colunas_a_extrair_recebimento:\n",
    "#     dim_recebimentos[coluna] = dim_recebimentos[coluna].apply(extrair_ultima_informacao)"
   ]
  },
  {
   "cell_type": "code",
   "execution_count": null,
   "metadata": {},
   "outputs": [],
   "source": [
    "# dim_recebimentos=dim_recebimentos[[\n",
    "#     'id',\n",
    "#     'codigo_nota_fiscal',\n",
    "#     'data_emissao',\n",
    "#     'valor_enviado',\n",
    "#     'data_prevista_pagamento',\n",
    "#     'valor_recebido',\n",
    "#     'data_recebimento',\n",
    "#     'impostos_retidos_valor',\n",
    "#     'dados_protocolo',\n",
    "#     'dados_status_invoice',\n",
    "#     'dados_moeda'\n",
    "# ]]\n",
    "\n"
   ]
  },
  {
   "cell_type": "code",
   "execution_count": null,
   "metadata": {},
   "outputs": [],
   "source": [
    "# # Nome do dataframe\n",
    "\n",
    "# dataframe_recebimento = \"Recebimentos\"\n",
    "# # Adicionar nova coluna com o valor para identificar o dataframe de origem\n",
    "\n",
    "\n",
    "# dim_recebimentos['Origem'] = dataframe_recebimento\n",
    "\n",
    "\n",
    "\n",
    "\n"
   ]
  },
  {
   "cell_type": "code",
   "execution_count": null,
   "metadata": {},
   "outputs": [],
   "source": [
    "# filtro = ['A emitir']\n",
    "# dim_recebimentos=dim_recebimentos[~dim_recebimentos['codigo_nota_fiscal'].isin(filtro)]"
   ]
  },
  {
   "cell_type": "code",
   "execution_count": null,
   "metadata": {},
   "outputs": [],
   "source": [
    "# dim_recebimentos['codigo_nota_fiscal'].duplicated().value_counts()"
   ]
  },
  {
   "cell_type": "code",
   "execution_count": null,
   "metadata": {},
   "outputs": [],
   "source": [
    "# filtro = ['Cancelada']\n",
    "# dim_recebimentos=dim_recebimentos[~dim_recebimentos['dados_status_invoice'].isin(filtro)]"
   ]
  },
  {
   "cell_type": "code",
   "execution_count": null,
   "metadata": {},
   "outputs": [],
   "source": [
    "# valore_duplicados=dim_recebimentos['codigo_nota_fiscal'].duplicated(keep=False)\n",
    "# invoices_duplicadas=dim_recebimentos[valore_duplicados]"
   ]
  },
  {
   "cell_type": "code",
   "execution_count": null,
   "metadata": {},
   "outputs": [],
   "source": [
    "# invoices_duplicadas['data_emissao']= pd.to_datetime(invoices_duplicadas['data_emissao']).dt.tz_localize(None)"
   ]
  },
  {
   "cell_type": "code",
   "execution_count": null,
   "metadata": {},
   "outputs": [],
   "source": [
    "# invoices_duplicadas=invoices_duplicadas.sort_values(by='codigo_nota_fiscal', ascending = True)"
   ]
  },
  {
   "cell_type": "code",
   "execution_count": null,
   "metadata": {},
   "outputs": [],
   "source": [
    "# # Primeira período para titulo do email\n",
    "# if not invoices_duplicadas.empty:\n",
    "#     invoices_duplicadas_min = invoices_duplicadas['data_emissao'].min().strftime('%d/%m/%Y')\n",
    "#     invoices_duplicadas_max = invoices_duplicadas['data_emissao'].max().strftime('%d/%m/%Y')\n",
    "# else:\n",
    "#     invoices_duplicadas_min = None\n",
    "#     invoices_duplicadas_max = None"
   ]
  },
  {
   "cell_type": "code",
   "execution_count": null,
   "metadata": {},
   "outputs": [],
   "source": [
    "# subject_email =(\n",
    "#    f'Não existem invoices duplicadas'\n",
    "#    if invoices_duplicadas_min==None\n",
    "#    else f'A Invoice ou NF cadastrada em {invoices_duplicadas_min} possui duplicata'\n",
    "#       if invoices_duplicadas_min == invoices_duplicadas_max\n",
    "#       else f'As invoices ou Notas fiscais cadastradas entre {invoices_duplicadas_min} e {invoices_duplicadas_max} possuem duplicatas'\n",
    "# )\n",
    "# subject_email"
   ]
  },
  {
   "cell_type": "code",
   "execution_count": null,
   "metadata": {},
   "outputs": [],
   "source": [
    "# # Salvando o DataFrame em um arquivo Excel\n",
    "# def salvar_dataframe_como_excel(dataframe, filename='invoices_duplicadas.xlsx'):\n",
    "#     buffer = BytesIO()\n",
    "#     dataframe.to_excel(buffer, index=False, engine='openpyxl')\n",
    "#     buffer.seek(0)\n",
    "#     return buffer"
   ]
  },
  {
   "cell_type": "code",
   "execution_count": null,
   "metadata": {},
   "outputs": [],
   "source": [
    "# # Função para criar a tabela do corpo do email \n",
    "# def filtrar_protocolo_invoices_duplicadas(dataframe, anos=3):\n",
    "#     # Filtrar contratos com data de assinatura não nula\n",
    "#     dataframe = dataframe.loc[dataframe['data_emissao'].notna(), :]\n",
    "# # Verificar se o DataFrame filtrado está vazio\n",
    "#     if invoices_duplicadas.empty:\n",
    "#         return \"Nenhum estudos cadastrado está sem a moeda\"\n",
    "#     else:\n",
    "#         # Formatar o DataFrame para exibição em HTML\n",
    "#         dataframe_filtrado = invoices_duplicadas.style\\\n",
    "#             .format(precision=3, thousands=\".\", decimal=',')\\\n",
    "#             .format_index(str.upper, axis=1)\\\n",
    "#             .set_properties(**{'background-color': 'white'}, **{'color': 'black'})\\\n",
    "#             .set_table_styles([{'selector': 'td:hover', 'props': [('background-color', '#EC0E73')]}])\n",
    "\n",
    "#         return dataframe_filtrado.to_html(index=False)\n",
    "\n",
    "# # Chamando a função\n",
    "# invoices_duplicadas_html = filtrar_protocolo_invoices_duplicadas(invoices_duplicadas)\n",
    "\n",
    "# # Função de envio do e-mail\n",
    "# def enviar_email_protocolos_invoices_duplicadas():\n",
    "#     try:\n",
    "#         if invoices_duplicadas.empty:\n",
    "#             print(\"Notas Fiscais e Invoices sem duplicatas\")\n",
    "#             return\n",
    "        \n",
    "#         # Criação do arquivo Excel em memória\n",
    "#         excel_file = salvar_dataframe_como_excel(invoices_duplicadas)\n",
    "\n",
    "#         msg = MIMEMultipart(\"related\")\n",
    "#         msg['From'] = username_email\n",
    "#         msg['Bcc'] = ', '.join(enviar_para)\n",
    "#         msg['Subject'] = subject_email\n",
    "        \n",
    "#         # Corpo do e-mail simplificado\n",
    "#         body = f\"\"\"\n",
    "#         <html>\n",
    "#             <head>{css_hover}</head>\n",
    "#             <body>\n",
    "#                 <h2>{subject_email}</h2>\n",
    "#                 <p>Gui, veja se assim está ok? o anexo está em .xlsx</p>\n",
    "#                 <p>{invoices_duplicadas_html}</p>\n",
    "#                 <p>Eu vim para te mandar mensagens, mua ha ha</p>\n",
    "#             </body>\n",
    "#         </html>\n",
    "#         \"\"\"\n",
    "#         msg.attach(MIMEText(body, 'html'))\n",
    "        \n",
    "#         # Anexando o arquivo Excel\n",
    "#         part = MIMEBase('application', 'octet-stream')\n",
    "#         part.set_payload(excel_file.read())\n",
    "#         encoders.encode_base64(part)\n",
    "#         part.add_header(\n",
    "#             'Content-Disposition',\n",
    "#             f'attachment; filename=\"invoices_duplicadas.xlsx\"'\n",
    "#         )\n",
    "#         msg.attach(part)\n",
    "        \n",
    "#         # Enviar o e-mail\n",
    "#         with smtplib.SMTP(server_email, port_email) as server:\n",
    "#             server.starttls()\n",
    "#             server.login(username_email, password_email)\n",
    "#             server.send_message(msg)\n",
    "#         print(f\"{subject_email}\")\n",
    "        \n",
    "#     except Exception as e:\n",
    "#         print(f\"Erro ao enviar o e-mail: {e}\")\n",
    "\n",
    "# enviar_email_protocolos_invoices_duplicadas()"
   ]
  },
  {
   "cell_type": "markdown",
   "metadata": {},
   "source": [
    "# Visitas realizadas e se elas estão vinculadas a alguma Invoice ou NF"
   ]
  },
  {
   "cell_type": "code",
   "execution_count": null,
   "metadata": {},
   "outputs": [],
   "source": [
    "# fato_visitas_nf = df_participante_visita[[\n",
    "#     'id',\n",
    "#     'dados_participante',\n",
    "#     'dados_visita',\n",
    "#     'data_realizada',\n",
    "#     'dados_status',\n",
    "#     'dados_nota_fiscal'\n",
    "#     ]].copy()"
   ]
  },
  {
   "cell_type": "code",
   "execution_count": null,
   "metadata": {},
   "outputs": [],
   "source": [
    "# # Extrair 'co_protocolo'\n",
    "# fato_visitas_nf['co_protocolo'] = fato_visitas_nf['dados_participante'].apply(\n",
    "#     lambda x: extrair_campo(x, 'co_protocolo')\n",
    "# )\n",
    "\n",
    "# # Extrair 'id_participante'\n",
    "# fato_visitas_nf['id_participante'] = fato_visitas_nf['dados_participante'].apply(\n",
    "#     lambda x: extrair_campo(x, 'id_participante')\n",
    "# )\n",
    "\n",
    "# # Extrair 'apelido_protocolo'\n",
    "# fato_visitas_nf['apelido_protocolo'] = fato_visitas_nf['dados_participante'].apply(\n",
    "#     lambda x: extrair_campo(x, 'dados_protocolo', 'apelido_protocolo')\n",
    "# )\n",
    "\n",
    "# participante = ['dados_visita']\n",
    "\n",
    "# for coluna in participante:\n",
    "#     if coluna in fato_visitas_nf.columns:\n",
    "#         fato_visitas_nf[coluna] = fato_visitas_nf[coluna].apply(\n",
    "#             lambda x: extrair_segunda_informacao(x) if isinstance(x, dict) else None\n",
    "#         )\n",
    "#     else:\n",
    "#         print(f\"A coluna '{coluna}' não existe no DataFrame.\")\n",
    "        \n",
    "# ultima_info=['dados_status','dados_nota_fiscal']\n",
    "\n",
    "# for coluna in ultima_info:\n",
    "#     if coluna in fato_visitas_nf.columns:\n",
    "#         fato_visitas_nf.loc[:,coluna] = fato_visitas_nf[coluna].apply(extrair_ultima_informacao)\n",
    "#     else:\n",
    "#         print(f\"A coluna '{coluna}' não existe no Dataframe\")"
   ]
  },
  {
   "cell_type": "code",
   "execution_count": null,
   "metadata": {},
   "outputs": [],
   "source": [
    "# fato_visitas_nf=fato_visitas_nf.drop('dados_participante', axis = 1)"
   ]
  },
  {
   "cell_type": "code",
   "execution_count": null,
   "metadata": {},
   "outputs": [],
   "source": [
    "# colunas_data = ['data_realizada']\n",
    "\n",
    "# # Converte cada coluna de data separadamente para melhorar o desempenho\n",
    "# for coluna in colunas_data:\n",
    "#     fato_visitas_nf[coluna] = pd.to_datetime(fato_visitas_nf[coluna], errors='coerce').dt.tz_localize(None).dt.date"
   ]
  },
  {
   "cell_type": "code",
   "execution_count": null,
   "metadata": {},
   "outputs": [],
   "source": [
    "# fato_visitas_nf.rename(columns={\n",
    "#     'id':'id_visita_nf',\n",
    "#     'apelido_protocolo': 'Protocolo',\n",
    "#     'dados_participante':'Participante',\n",
    "#     'dados_visita':'Visita',\n",
    "#     'data_realizada':'Data Realizada',\n",
    "#     'dados_status':'Status da visita',\n",
    "#     'dados_nota_fiscal':'Nota Fiscal'\n",
    "#     }, inplace=True)"
   ]
  },
  {
   "cell_type": "code",
   "execution_count": null,
   "metadata": {},
   "outputs": [],
   "source": [
    "# filtros = ['Realizada', 'Realizada parcialmente']\n",
    "\n",
    "# fato_visitas_nf = fato_visitas_nf[\n",
    "#     fato_visitas_nf['Status da visita'].isin(filtros)\n",
    "# ]"
   ]
  },
  {
   "cell_type": "code",
   "execution_count": null,
   "metadata": {},
   "outputs": [],
   "source": [
    "# fato_visitas_nf = fato_visitas_nf[fato_visitas_nf['Nota Fiscal'].isna()]"
   ]
  },
  {
   "cell_type": "code",
   "execution_count": null,
   "metadata": {},
   "outputs": [],
   "source": [
    "# fato_visitas_nf.columns"
   ]
  },
  {
   "cell_type": "code",
   "execution_count": null,
   "metadata": {},
   "outputs": [],
   "source": [
    "# fato_visitas_nf = fato_visitas_nf[['Protocolo',\n",
    "#                                    'id_participante',\n",
    "#                                    'Visita',\n",
    "#                                    'Status da visita',\n",
    "#                                    'Data Realizada',\n",
    "#                                    'Nota Fiscal',\n",
    "#                                    'co_protocolo',\n",
    "#                                    ]]"
   ]
  },
  {
   "cell_type": "code",
   "execution_count": null,
   "metadata": {},
   "outputs": [],
   "source": [
    "# colunas_data = ['Data Realizada']\n",
    "\n",
    "# # Converte cada coluna de data separadamente para melhorar o desempenho\n",
    "# for coluna in colunas_data:\n",
    "#     fato_visitas_nf[coluna] = pd.to_datetime(fato_visitas_nf[coluna], errors='coerce').dt.tz_localize(None)"
   ]
  },
  {
   "cell_type": "code",
   "execution_count": null,
   "metadata": {},
   "outputs": [],
   "source": [
    "# iniciativa = df_protocolo[['id', 'dados_tipo_de_iniciativa']]\n",
    "# iniciativa.rename(columns={\n",
    "#     'id':'co_protocolo',\n",
    "#     'dados_tipo_de_iniciativa': 'Iniciatita'\n",
    "#     }, inplace=True)\n",
    "\n",
    "# colunas_a_extrair_recebimento=[\n",
    "#     'Iniciatita'\n",
    "# ]\n",
    "\n",
    "# for coluna in colunas_a_extrair_recebimento:\n",
    "#     iniciativa[coluna] = iniciativa[coluna].apply(extrair_ultima_informacao)"
   ]
  },
  {
   "cell_type": "code",
   "execution_count": null,
   "metadata": {},
   "outputs": [],
   "source": [
    "# fato_visitas_nf = fato_visitas_nf.merge(iniciativa, how = 'left', on='co_protocolo')"
   ]
  },
  {
   "cell_type": "code",
   "execution_count": null,
   "metadata": {},
   "outputs": [],
   "source": [
    "# tipo_de_estudo =['Patrocinador']\n",
    "# fato_visitas_nf=fato_visitas_nf[fato_visitas_nf['Iniciatita'].isin(tipo_de_estudo)]\n",
    "\n",
    "# filtro_visita=['Particularidades do Financeiro ']\n",
    "# fato_visitas_nf=fato_visitas_nf[~fato_visitas_nf['Visita'].isin(filtro_visita)]"
   ]
  },
  {
   "cell_type": "code",
   "execution_count": null,
   "metadata": {},
   "outputs": [],
   "source": [
    "# fato_visitas_nf = fato_visitas_nf[fato_visitas_nf['Visita'].notna()]"
   ]
  },
  {
   "cell_type": "code",
   "execution_count": null,
   "metadata": {},
   "outputs": [],
   "source": [
    "\n",
    "# fato_visitas_nf = fato_visitas_nf[['id_participante',\n",
    "#                                    'Protocolo',\n",
    "#                                    'Iniciatita',\n",
    "#                                    'Visita',\n",
    "#                                    'Data Realizada',\n",
    "#                                    'Status da visita',\n",
    "#                                    'Nota Fiscal',\n",
    "#                                    ]].sort_values(by='Data Realizada', ascending = True)"
   ]
  },
  {
   "cell_type": "code",
   "execution_count": null,
   "metadata": {},
   "outputs": [],
   "source": [
    "# # Primeira período para titulo do email\n",
    "# if not fato_visitas_nf.empty:\n",
    "#     fato_visitas_nf_min = fato_visitas_nf['Data Realizada'].min().strftime('%d/%m/%Y')\n",
    "#     fato_visitas_nf_max = fato_visitas_nf['Data Realizada'].max().strftime('%d/%m/%Y')\n",
    "# else:\n",
    "#     fato_visitas_nf_min = None\n",
    "#     fato_visitas_nf_max = None"
   ]
  },
  {
   "cell_type": "code",
   "execution_count": null,
   "metadata": {},
   "outputs": [],
   "source": [
    "# # Primeira período para titulo do email\n",
    "# if not fato_visitas_nf.empty:\n",
    "#     fato_visitas_nf_min = fato_visitas_nf['Data Realizada'].min().strftime('%d/%m/%Y')\n",
    "#     fato_visitas_nf_max = fato_visitas_nf['Data Realizada'].max().strftime('%d/%m/%Y')\n",
    "# else:\n",
    "#     fato_visitas_nf_min = None\n",
    "#     fato_visitas_nf_max = None"
   ]
  },
  {
   "cell_type": "code",
   "execution_count": null,
   "metadata": {},
   "outputs": [],
   "source": [
    "# subject_email =(\n",
    "#    f'Não existem sem nota fiscal ou invoice vinculada'\n",
    "#    if fato_visitas_nf_min==None\n",
    "#    else f'As visitas realizadas em {fato_visitas_nf_min} não possuem nota fiscal ou invoice vinculada'\n",
    "#       if fato_visitas_nf_min == fato_visitas_nf_max\n",
    "#       else f'As visitas realizadas entre {fato_visitas_nf_min} e {fato_visitas_nf_max} não possuem nota fiscal ou invoice vinculada'\n",
    "# )\n",
    "# subject_email"
   ]
  },
  {
   "cell_type": "code",
   "execution_count": null,
   "metadata": {},
   "outputs": [],
   "source": [
    "# # Salvando o DataFrame em um arquivo Excel\n",
    "# def salvar_dataframe_como_excel(dataframe, filename='visitas_sem_nf.xlsx'):\n",
    "#     buffer = BytesIO()\n",
    "#     dataframe.to_excel(buffer, index=False, engine='openpyxl')\n",
    "#     buffer.seek(0)\n",
    "#     return buffer"
   ]
  },
  {
   "cell_type": "code",
   "execution_count": null,
   "metadata": {},
   "outputs": [],
   "source": [
    "# # Função para criar a tabela do corpo do email \n",
    "# def filtrar_protocolo_fato_visitas_nf(dataframe, anos=3):\n",
    "#     # Filtrar contratos com data de assinatura não nula\n",
    "#     dataframe = dataframe.loc[dataframe['Data Realizada'].notna(), :]\n",
    "# # Verificar se o DataFrame filtrado está vazio\n",
    "#     if fato_visitas_nf.empty:\n",
    "#         return \"Nenhuma visita realizada está sem a NF vinculada\"\n",
    "#     else:\n",
    "#         # Formatar o DataFrame para exibição em HTML\n",
    "#         dataframe_filtrado = fato_visitas_nf.style\\\n",
    "#             .format(precision=3, thousands=\".\", decimal=',')\\\n",
    "#             .format_index(str.upper, axis=1)\\\n",
    "#             .set_properties(**{'background-color': 'white'}, **{'color': 'black'})\\\n",
    "#             .set_table_styles([{'selector': 'td:hover', 'props': [('background-color', '#EC0E73')]}])\n",
    "\n",
    "#         return dataframe_filtrado.to_html(index=False)\n",
    "\n",
    "# # Chamando a função\n",
    "# fato_visitas_nf_html = filtrar_protocolo_fato_visitas_nf(fato_visitas_nf)\n",
    "\n",
    "# # Função de envio do e-mail\n",
    "# def enviar_email_protocolos_fato_visitas_nf():\n",
    "#     try:\n",
    "#         if fato_visitas_nf.empty:\n",
    "#             print(\"Todas as visitas estão com a NF ou Invoice vinculada\")\n",
    "#             return\n",
    "        \n",
    "#         # Criação do arquivo Excel em memória\n",
    "#         excel_file = salvar_dataframe_como_excel(fato_visitas_nf)\n",
    "\n",
    "#         msg = MIMEMultipart(\"related\")\n",
    "#         msg['From'] = username_email\n",
    "#         msg['Bcc'] = ', '.join(enviar_para)\n",
    "#         msg['Subject'] = subject_email\n",
    "        \n",
    "#         # Corpo do e-mail simplificado\n",
    "#         body = f\"\"\"\n",
    "#         <html>\n",
    "#             <head>{css_hover}</head>\n",
    "#             <body>\n",
    "#                 <h2>{subject_email}</h2>\n",
    "                \n",
    "#                 <p>{fato_visitas_nf_html}</p>\n",
    "#                 <p>Eu vim para te mandar mensagens, mua ha ha</p>\n",
    "#             </body>\n",
    "#         </html>\n",
    "#         \"\"\"\n",
    "#         msg.attach(MIMEText(body, 'html'))\n",
    "        \n",
    "#         # Anexando o arquivo Excel\n",
    "#         part = MIMEBase('application', 'octet-stream')\n",
    "#         part.set_payload(excel_file.read())\n",
    "#         encoders.encode_base64(part)\n",
    "#         part.add_header(\n",
    "#             'Content-Disposition',\n",
    "#             f'attachment; filename=\"fato_visitas_nf.xlsx\"'\n",
    "#         )\n",
    "#         msg.attach(part)\n",
    "        \n",
    "#         # Enviar o e-mail\n",
    "#         with smtplib.SMTP(server_email, port_email) as server:\n",
    "#             server.starttls()\n",
    "#             server.login(username_email, password_email)\n",
    "#             server.send_message(msg)\n",
    "#         print(f\"{subject_email}\")\n",
    "        \n",
    "#     except Exception as e:\n",
    "#         print(f\"Erro ao enviar o e-mail: {e}\")\n",
    "\n",
    "# enviar_email_protocolos_fato_visitas_nf()"
   ]
  },
  {
   "cell_type": "code",
   "execution_count": null,
   "metadata": {},
   "outputs": [],
   "source": [
    "# subject_email =(\n",
    "#    f'Não existem sem nota fiscal ou invoice vinculada'\n",
    "#    if fato_visitas_nf_min==None\n",
    "#    else f'As visitas realizadas em {fato_visitas_nf_min} não possuem nota fiscal ou invoice vinculada'\n",
    "#       if fato_visitas_nf_min == fato_visitas_nf_max\n",
    "#       else f'As visitas realizadas entre {fato_visitas_nf_min} e {fato_visitas_nf_max} não possuem nota fiscal ou invoice vinculada'\n",
    "# )\n",
    "# subject_email"
   ]
  },
  {
   "cell_type": "code",
   "execution_count": null,
   "metadata": {},
   "outputs": [],
   "source": [
    "# # Salvando o DataFrame em um arquivo Excel\n",
    "# def salvar_dataframe_como_excel(dataframe, filename='visitas_sem_nf.xlsx'):\n",
    "#     buffer = BytesIO()\n",
    "#     dataframe.to_excel(buffer, index=False, engine='openpyxl')\n",
    "#     buffer.seek(0)\n",
    "#     return buffer"
   ]
  },
  {
   "cell_type": "code",
   "execution_count": null,
   "metadata": {},
   "outputs": [],
   "source": [
    "# # Função para criar a tabela do corpo do email \n",
    "# def filtrar_protocolo_fato_visitas_nf(dataframe, anos=3):\n",
    "#     # Filtrar contratos com data de assinatura não nula\n",
    "#     dataframe = dataframe.loc[dataframe['Data Realizada'].notna(), :]\n",
    "# # Verificar se o DataFrame filtrado está vazio\n",
    "#     if fato_visitas_nf.empty:\n",
    "#         return \"Nenhuma visita realizada está sem a NF vinculada\"\n",
    "#     else:\n",
    "#         # Formatar o DataFrame para exibição em HTML\n",
    "#         dataframe_filtrado = fato_visitas_nf.style\\\n",
    "#             .format(precision=3, thousands=\".\", decimal=',')\\\n",
    "#             .format_index(str.upper, axis=1)\\\n",
    "#             .set_properties(**{'background-color': 'white'}, **{'color': 'black'})\\\n",
    "#             .set_table_styles([{'selector': 'td:hover', 'props': [('background-color', '#EC0E73')]}])\n",
    "\n",
    "#         return dataframe_filtrado.to_html(index=False)\n",
    "\n",
    "# # Chamando a função\n",
    "# fato_visitas_nf_html = filtrar_protocolo_fato_visitas_nf(fato_visitas_nf)\n",
    "\n",
    "# # Função de envio do e-mail\n",
    "# def enviar_email_protocolos_fato_visitas_nf():\n",
    "#     try:\n",
    "#         if fato_visitas_nf.empty:\n",
    "#             print(\"Todas as visitas estão com a NF ou Invoice vinculada\")\n",
    "#             return\n",
    "        \n",
    "#         # Criação do arquivo Excel em memória\n",
    "#         excel_file = salvar_dataframe_como_excel(fato_visitas_nf)\n",
    "\n",
    "#         msg = MIMEMultipart(\"related\")\n",
    "#         msg['From'] = username_email\n",
    "#         msg['Bcc'] = ', '.join(enviar_para)\n",
    "#         msg['Subject'] = subject_email\n",
    "        \n",
    "#         # Corpo do e-mail simplificado\n",
    "#         body = f\"\"\"\n",
    "#         <html>\n",
    "#             <head>{css_hover}</head>\n",
    "#             <body>\n",
    "#                 <h2>{subject_email}</h2>\n",
    "                \n",
    "#                 <p>{fato_visitas_nf_html}</p>\n",
    "#                 <p>Eu vim para te mandar mensagens, mua ha ha</p>\n",
    "#             </body>\n",
    "#         </html>\n",
    "#         \"\"\"\n",
    "#         msg.attach(MIMEText(body, 'html'))\n",
    "        \n",
    "#         # Anexando o arquivo Excel\n",
    "#         part = MIMEBase('application', 'octet-stream')\n",
    "#         part.set_payload(excel_file.read())\n",
    "#         encoders.encode_base64(part)\n",
    "#         part.add_header(\n",
    "#             'Content-Disposition',\n",
    "#             f'attachment; filename=\"fato_visitas_nf.xlsx\"'\n",
    "#         )\n",
    "#         msg.attach(part)\n",
    "        \n",
    "#         # Enviar o e-mail\n",
    "#         with smtplib.SMTP(server_email, port_email) as server:\n",
    "#             server.starttls()\n",
    "#             server.login(username_email, password_email)\n",
    "#             server.send_message(msg)\n",
    "#         print(f\"{subject_email}\")\n",
    "        \n",
    "#     except Exception as e:\n",
    "#         print(f\"Erro ao enviar o e-mail: {e}\")\n",
    "\n",
    "# enviar_email_protocolos_fato_visitas_nf()"
   ]
  },
  {
   "cell_type": "code",
   "execution_count": null,
   "metadata": {},
   "outputs": [],
   "source": [
    "# #acesso à base de dados\n",
    "# dim_recebimentos = df_recebimento.copy()\n",
    "\n",
    "# # Extraindo informações de dicionários\n",
    "# colunas_a_extrair_recebimento=[\n",
    "#     'dados_protocolo',\n",
    "#     'dados_status_invoice',\n",
    "#     'dados_moeda'\n",
    "# ]\n",
    "\n",
    "# for coluna in colunas_a_extrair_recebimento:\n",
    "#     dim_recebimentos[coluna] = dim_recebimentos[coluna].apply(extrair_ultima_informacao)\n",
    "\n",
    "# # dados de interesse    \n",
    "# dim_recebimentos=dim_recebimentos[[\n",
    "#     'id',\n",
    "#     'codigo_nota_fiscal',\n",
    "#     'data_emissao',\n",
    "#     'valor_enviado',\n",
    "#     'data_prevista_pagamento',\n",
    "#     'valor_recebido',\n",
    "#     'data_recebimento',\n",
    "#     'impostos_retidos_valor',\n",
    "#     'dados_protocolo',\n",
    "#     'dados_status_invoice',\n",
    "#     'dados_moeda'\n",
    "# ]]\n",
    "\n",
    "# # endereçando o dataframe\n",
    "# dataframe_recebimento = \"Recebimentos\"\n",
    "# dim_recebimentos['Origem'] = dataframe_recebimento\n",
    "\n",
    "# # Primeiro Filtro\n",
    "# filtro = ['A emitir']\n",
    "# dim_recebimentos=dim_recebimentos[~dim_recebimentos['codigo_nota_fiscal'].isin(filtro)]\n",
    "\n",
    "# # Segundo Filtro\n",
    "# filtro2 = ['Cancelada']\n",
    "# dim_recebimentos=dim_recebimentos[~dim_recebimentos['dados_status_invoice'].isin(filtro2)]\n",
    "\n",
    "# # terceiro filtro\n",
    "# filtro3 = ['Clínica Morumbi ']\n",
    "# dim_recebimentos=dim_recebimentos[~dim_recebimentos['dados_protocolo'].isin(filtro3)]\n",
    "\n",
    "# # Selecionando valores duplicados\n",
    "# valore_duplicados=dim_recebimentos['codigo_nota_fiscal'].duplicated(keep=False)\n",
    "# invoices_duplicadas=dim_recebimentos[valore_duplicados]\n",
    "\n",
    "# # Tratameto da coluna de datas\n",
    "# invoices_duplicadas['data_emissao']= pd.to_datetime(invoices_duplicadas['data_emissao']).dt.tz_localize(None)\n",
    "\n",
    "# # Classificando os dados em ordem crescente\n",
    "# invoices_duplicadas=invoices_duplicadas.sort_values(by='codigo_nota_fiscal', ascending = True)\n",
    "\n",
    "\n",
    "\n",
    "# # Períodos para titulo do email\n",
    "# if not invoices_duplicadas.empty:\n",
    "#     invoices_duplicadas_min = invoices_duplicadas['data_emissao'].min().strftime('%d/%m/%Y')\n",
    "#     invoices_duplicadas_max = invoices_duplicadas['data_emissao'].max().strftime('%d/%m/%Y')\n",
    "# else:\n",
    "#     invoices_duplicadas_min = None\n",
    "#     invoices_duplicadas_max = None\n",
    "\n",
    "# # Texto personalizado  \n",
    "# subject_email =(\n",
    "#    f'Não existem invoices duplicadas'\n",
    "#    if invoices_duplicadas_min==None\n",
    "#    else f'A Invoice ou NF cadastrada em {invoices_duplicadas_min} possui duplicata'\n",
    "#       if invoices_duplicadas_min == invoices_duplicadas_max\n",
    "#       else f'As invoices ou Notas fiscais cadastradas entre {invoices_duplicadas_min} e {invoices_duplicadas_max} possuem duplicatas'\n",
    "# )\n",
    "\n",
    "# # Salvando o DataFrame em um arquivo Excel\n",
    "# def salvar_dataframe_como_excel(dataframe, filename='invoices_duplicadas.xlsx'):\n",
    "#     buffer = BytesIO()\n",
    "#     dataframe.to_excel(buffer, index=False, engine='openpyxl')\n",
    "#     buffer.seek(0)\n",
    "#     return buffer\n",
    "\n",
    "# # Função para criar a tabela do corpo do email \n",
    "# def filtrar_protocolo_invoices_duplicadas(dataframe, anos=3):\n",
    "#     # Filtrar contratos com data de assinatura não nula\n",
    "#     dataframe = dataframe.loc[dataframe['data_emissao'].notna(), :]\n",
    "# # Verificar se o DataFrame filtrado está vazio\n",
    "#     if invoices_duplicadas.empty:\n",
    "#         return \"Nenhum estudos cadastrado está sem a moeda\"\n",
    "#     else:\n",
    "#         # Formatar o DataFrame para exibição em HTML\n",
    "#         dataframe_filtrado = invoices_duplicadas.style\\\n",
    "#             .format(precision=3, thousands=\".\", decimal=',')\\\n",
    "#             .format_index(str.upper, axis=1)\\\n",
    "#             .set_properties(**{'background-color': 'white'}, **{'color': 'black'})\\\n",
    "#             .set_table_styles([{'selector': 'td:hover', 'props': [('background-color', '#EC0E73')]}])\n",
    "\n",
    "#         return dataframe_filtrado.to_html(index=False)\n",
    "\n",
    "# # Chamando a função\n",
    "# invoices_duplicadas_html = filtrar_protocolo_invoices_duplicadas(invoices_duplicadas)\n",
    "\n",
    "# # Função de envio do e-mail\n",
    "# def enviar_email_protocolos_invoices_duplicadas():\n",
    "#     try:\n",
    "#         if invoices_duplicadas.empty:\n",
    "#             print(\"Notas Fiscais e Invoices sem duplicatas\")\n",
    "#             return\n",
    "        \n",
    "#         # Criação do arquivo Excel em memória\n",
    "#         excel_file = salvar_dataframe_como_excel(invoices_duplicadas)\n",
    "\n",
    "#         msg = MIMEMultipart(\"related\")\n",
    "#         msg['From'] = username_email\n",
    "#         msg['Bcc'] = ', '.join(enviar_para)\n",
    "#         msg['Subject'] = subject_email\n",
    "        \n",
    "#         # Corpo do e-mail simplificado\n",
    "#         body = f\"\"\"\n",
    "#         <html>\n",
    "#             <head>{css_hover}</head>\n",
    "#             <body>\n",
    "#                 <h2>{subject_email}</h2>\n",
    "#                 <p>{invoices_duplicadas_html}</p>\n",
    "#                 <p>Eu vim para te mandar mensagens, mua ha ha</p>\n",
    "#             </body>\n",
    "#         </html>\n",
    "#         \"\"\"\n",
    "#         msg.attach(MIMEText(body, 'html'))\n",
    "        \n",
    "#         # Anexando o arquivo Excel\n",
    "#         part = MIMEBase('application', 'octet-stream')\n",
    "#         part.set_payload(excel_file.read())\n",
    "#         encoders.encode_base64(part)\n",
    "#         part.add_header(\n",
    "#             'Content-Disposition',\n",
    "#             f'attachment; filename=\"invoices_duplicadas.xlsx\"'\n",
    "#         )\n",
    "#         msg.attach(part)\n",
    "        \n",
    "#         # Enviar o e-mail\n",
    "#         with smtplib.SMTP(server_email, port_email) as server:\n",
    "#             server.starttls()\n",
    "#             server.login(username_email, password_email)\n",
    "#             server.send_message(msg)\n",
    "#         print(f\"{subject_email}\")\n",
    "        \n",
    "#     except Exception as e:\n",
    "#         print(f\"Erro ao enviar o e-mail: {e}\")\n",
    "\n",
    "# enviar_email_protocolos_invoices_duplicadas()\n"
   ]
  },
  {
   "cell_type": "markdown",
   "metadata": {},
   "source": [
    "# Procedimentos duplicados"
   ]
  },
  {
   "cell_type": "code",
   "execution_count": 234,
   "metadata": {},
   "outputs": [],
   "source": [
    "dim_visita_procedimentos = df_visita_procedimentos.copy()"
   ]
  },
  {
   "cell_type": "code",
   "execution_count": 235,
   "metadata": {},
   "outputs": [
    {
     "data": {
      "text/plain": [
       "(71837, 78)"
      ]
     },
     "execution_count": 235,
     "metadata": {},
     "output_type": "execute_result"
    }
   ],
   "source": [
    "dim_visita_procedimentos.shape"
   ]
  },
  {
   "cell_type": "code",
   "execution_count": 236,
   "metadata": {},
   "outputs": [],
   "source": [
    "procedimentos_extras=dim_visita_procedimentos[[\n",
    "    'dados_protocolo_procedimento.co_protocolo',\n",
    "    'dados_participante_visita.co_participante',\n",
    "    'dados_participante_visita.nome_tarefa',\n",
    "    'data_executada',\n",
    "    'opcional',\n",
    "    'dados_protocolo_procedimento.nome_procedimento_estudo',\n",
    "    'dados_participante_visita_procedimento_executor.dados_pessoa_executor.ds_nome',\n",
    "    'dados_visita_procedimento.opcional',\n",
    "    'dados_visita_procedimento.disponibilidade',\n",
    "    'co_visita_procedimento',\n",
    "    'dados_nota_fiscal.codigo_nota_fiscal'\n",
    "\n",
    "\n",
    "]]\n",
    "procedimentos_extras=dim_visita_procedimentos.copy()\n",
    "procedimentos_extras.rename(columns={\n",
    "    'dados_protocolo_procedimento.co_protocolo': 'co_protocolo',\n",
    "    'dados_participante_visita.co_participante':'co_participante',\n",
    "    'dados_participante_visita.nome_tarefa': 'Visita',\n",
    "    'data_executada':'Data Executada',\n",
    "    'opcional': 'Tipo de procedimento' ,\n",
    "    'dados_protocolo_procedimento.nome_procedimento_estudo': 'Procedimento',\n",
    "    'dados_participante_visita_procedimento_executor.dados_pessoa_executor.ds_nome':'Executor',\n",
    "    'dados_visita_procedimento.opcional': 'Opcional 2',\n",
    "    'dados_visita_procedimento.disponibilidade': 'Disponibilidade',\n",
    "    'co_visita_procedimento': 'Codigo Procedimentos',\n",
    "    'dados_nota_fiscal.codigo_nota_fiscal':'codigo_nota_fiscal'\n",
    "    }, inplace=True)"
   ]
  },
  {
   "cell_type": "code",
   "execution_count": 237,
   "metadata": {},
   "outputs": [],
   "source": [
    "protocolo = df_protocolo[[\n",
    "    'id',\n",
    "    'apelido_protocolo',\n",
    "    'dados_co_centro',\n",
    "    'dados_tipo_de_iniciativa'\n",
    "    ]].copy()\n",
    "\n",
    "\n",
    "extrair = ['dados_co_centro','dados_tipo_de_iniciativa']\n",
    "for coluna in extrair:\n",
    "    protocolo[coluna] = protocolo[coluna].apply(extrair_ultima_informacao)\n",
    "    \n",
    "protocolo.rename(columns={\n",
    "    'id':'co_protocolo',\n",
    "    'apelido_protocolo': 'Protocolo',\n",
    "    'dados_co_centro':'Centro',\n",
    "    'dados_tipo_de_iniciativa': 'Iniciativa'\n",
    "    }, inplace=True)"
   ]
  },
  {
   "cell_type": "code",
   "execution_count": 238,
   "metadata": {},
   "outputs": [],
   "source": [
    "procedimentos_extras = procedimentos_extras.merge(protocolo, how = 'left', on='co_protocolo')"
   ]
  },
  {
   "cell_type": "code",
   "execution_count": 239,
   "metadata": {},
   "outputs": [],
   "source": [
    "participantes = df_participantes[[\n",
    "    'id',\n",
    "    'id_participante',\n",
    "    'dados_status',\n",
    "    'Braco'\n",
    "    ]].copy()\n",
    "\n",
    "extrair2 = ['dados_status','Braco']\n",
    "for coluna in extrair2:\n",
    "    participantes[coluna] = participantes[coluna].apply(extrair_ultima_informacao)\n",
    "    \n",
    "participantes.rename(columns={\n",
    "    'id':'co_participante',\n",
    "    'id_participante': 'Participante',\n",
    "    'dados_status': 'Status do participante',\n",
    "    'Braco': 'Braço no estudo'\n",
    "    }, inplace=True)\n",
    "\n",
    "procedimentos_extras = procedimentos_extras.merge(participantes, how = 'left', on='co_participante')"
   ]
  },
  {
   "cell_type": "code",
   "execution_count": null,
   "metadata": {},
   "outputs": [],
   "source": [
    "# procedimentos_extras['Tipos de procedimento'] = procedimentos_extras['Codigo Procedimentos'].fillna('Extra')\n",
    "# procedimentos_extras.loc[procedimentos_extras['Disponibilidade']==2.0,'Tipos de procedimento' ] = 'Condicional'\n",
    "# # Ajustando para \"null\" qualquer valor diferente de \"extra\" ou \"condicional\"\n",
    "# procedimentos_extras['Tipos de procedimento'] = procedimentos_extras['Tipos de procedimento'].apply(lambda x: x if x in ['Extra', 'Condicional'] else np.nan)"
   ]
  },
  {
   "cell_type": "code",
   "execution_count": null,
   "metadata": {},
   "outputs": [],
   "source": [
    "# procedimentos_extras=procedimentos_extras[(procedimentos_extras['Tipos de procedimento']=='Extra')|(procedimentos_extras['Tipos de procedimento']=='Condicional')]"
   ]
  },
  {
   "cell_type": "code",
   "execution_count": 224,
   "metadata": {},
   "outputs": [],
   "source": [
    "procedimentos_extras=procedimentos_extras[[\n",
    "    'Protocolo','Iniciativa', 'Centro', 'Participante', 'Status do participante', 'Visita','Braço no estudo','Data Executada', 'Procedimento', 'Executor'\n",
    "]]"
   ]
  },
  {
   "cell_type": "code",
   "execution_count": 225,
   "metadata": {},
   "outputs": [],
   "source": [
    "colunas_data = ['Data Executada']\n",
    "\n",
    "# Converte cada coluna de data separadamente para melhorar o desempenho\n",
    "for coluna in colunas_data:\n",
    "    procedimentos_extras[coluna] = pd.to_datetime(procedimentos_extras[coluna], errors='coerce').dt.tz_localize(None)"
   ]
  },
  {
   "cell_type": "code",
   "execution_count": 226,
   "metadata": {},
   "outputs": [],
   "source": [
    "filtro3 = ['Patrocinador']\n",
    "procedimentos_extras=procedimentos_extras[procedimentos_extras['Iniciativa'].isin(filtro3)]"
   ]
  },
  {
   "cell_type": "code",
   "execution_count": 214,
   "metadata": {},
   "outputs": [
    {
     "data": {
      "text/plain": [
       "Index(['Protocolo', 'Iniciativa', 'Centro', 'Participante',\n",
       "       'Status do participante', 'Visita', 'Braço no estudo', 'Data Executada',\n",
       "       'Procedimento', 'Executor'],\n",
       "      dtype='object')"
      ]
     },
     "execution_count": 214,
     "metadata": {},
     "output_type": "execute_result"
    }
   ],
   "source": [
    "procedimentos_extras.columns"
   ]
  },
  {
   "cell_type": "code",
   "execution_count": 227,
   "metadata": {},
   "outputs": [],
   "source": [
    "procedimentos_extras = procedimentos_extras[procedimentos_extras.duplicated(subset =['Protocolo', 'Centro', 'Participante','Visita','Data Executada','Procedimento'], keep=False)]"
   ]
  },
  {
   "cell_type": "code",
   "execution_count": null,
   "metadata": {},
   "outputs": [],
   "source": [
    "# procedimentos_extras=procedimentos_extras[(procedimentos_extras['Tipos de procedimento'].str.contains(\"Condicional\", regex=False, na=False))|(procedimentos_extras['Tipos de procedimento'].str.contains(\"Extra\", regex=False, na=False))].sort_values(by='Data Executada', ascending = True)"
   ]
  },
  {
   "cell_type": "code",
   "execution_count": 228,
   "metadata": {},
   "outputs": [],
   "source": [
    "# # Filtrar os EA/EAS que ocorreram nos últimos 7 dias\n",
    "procedimentos_duplicados = procedimentos_extras[\n",
    "    (procedimentos_extras['Data Executada'].dt.year == ano_atual)&\n",
    "    (procedimentos_extras['Data Executada'].dt.month <= mes_atual) #Após a primeira leva, alterar para delay de 1 semana\n",
    "]"
   ]
  },
  {
   "cell_type": "code",
   "execution_count": 229,
   "metadata": {},
   "outputs": [],
   "source": [
    "# Primeira período para titulo do email\n",
    "if not procedimentos_duplicados.empty:\n",
    "    procedimentos_duplicados_min = procedimentos_duplicados['Data Executada'].min().strftime('%d/%m/%Y')\n",
    "    procedimentos_duplicados_max = procedimentos_duplicados['Data Executada'].max().strftime('%d/%m/%Y')\n",
    "else:\n",
    "    procedimentos_duplicados_min = None\n",
    "    procedimentos_duplicados_max = None"
   ]
  },
  {
   "cell_type": "code",
   "execution_count": 231,
   "metadata": {},
   "outputs": [
    {
     "data": {
      "text/plain": [
       "'As visitas realizadas entre 23/01/2024 e 16/09/2024 apresentam procedimentos duplicados'"
      ]
     },
     "execution_count": 231,
     "metadata": {},
     "output_type": "execute_result"
    }
   ],
   "source": [
    "subject_email =(\n",
    "   f'Não existem estudos com procedimentos duplicados'\n",
    "   if procedimentos_duplicados_min==None\n",
    "   else f'As visitas realizadas em {procedimentos_duplicados_min} não possuem procedimentos duplicados'\n",
    "      if procedimentos_duplicados_min == procedimentos_duplicados_max\n",
    "      else f'As visitas realizadas entre {procedimentos_duplicados_min} e {procedimentos_duplicados_max} apresentam procedimentos duplicados'\n",
    ")\n",
    "subject_email"
   ]
  },
  {
   "cell_type": "code",
   "execution_count": 232,
   "metadata": {},
   "outputs": [],
   "source": [
    "# Salvando o DataFrame em um arquivo Excel\n",
    "def salvar_dataframe_como_excel(dataframe, filename='procedimentos_duplicados.xlsx'):\n",
    "    buffer = BytesIO()\n",
    "    dataframe.to_excel(buffer, index=False, engine='openpyxl')\n",
    "    buffer.seek(0)\n",
    "    return buffer"
   ]
  },
  {
   "cell_type": "code",
   "execution_count": 233,
   "metadata": {},
   "outputs": [
    {
     "name": "stdout",
     "output_type": "stream",
     "text": [
      "As visitas realizadas entre 23/01/2024 e 16/09/2024 apresentam procedimentos duplicados\n"
     ]
    }
   ],
   "source": [
    "# Função para criar a tabela do corpo do email \n",
    "def filtrar_protocolo_procedimentos_duplicados(dataframe, anos=3):\n",
    "    # Filtrar contratos com data de assinatura não nula\n",
    "    dataframe = dataframe.loc[dataframe['Data Executada'].notna(), :]\n",
    "# Verificar se o DataFrame filtrado está vazio\n",
    "    if procedimentos_duplicados.empty:\n",
    "        return \"Sem procedimentos Condicionais e/ou Extras\"\n",
    "    else:\n",
    "        # Formatar o DataFrame para exibição em HTML\n",
    "        dataframe_filtrado = procedimentos_duplicados.style\\\n",
    "            .format(precision=3, thousands=\".\", decimal=',')\\\n",
    "            .format_index(str.upper, axis=1)\\\n",
    "            .set_properties(**{'background-color': 'white'}, **{'color': 'black'})\\\n",
    "            .set_table_styles([{'selector': 'td:hover', 'props': [('background-color', '#EC0E73')]}])\n",
    "\n",
    "        return dataframe_filtrado.to_html(index=False)\n",
    "\n",
    "# Chamando a função\n",
    "procedimentos_duplicados_html = filtrar_protocolo_procedimentos_duplicados(procedimentos_duplicados)\n",
    "\n",
    "# Função de envio do e-mail\n",
    "def enviar_email_protocolos_procedimentos_duplicados():\n",
    "    try:\n",
    "        if procedimentos_duplicados.empty:\n",
    "            print(\"Não foram detectados procedimentos condicionais e/ou extras\")\n",
    "            return\n",
    "        \n",
    "        # Criação do arquivo Excel em memória\n",
    "        excel_file = salvar_dataframe_como_excel(procedimentos_duplicados)\n",
    "\n",
    "        msg = MIMEMultipart(\"related\")\n",
    "        msg['From'] = username_email\n",
    "        msg['Bcc'] = ', '.join(enviar_para)\n",
    "        msg['Subject'] = subject_email\n",
    "        \n",
    "        # Corpo do e-mail simplificado\n",
    "        body = f\"\"\"\n",
    "        <html>\n",
    "            <head>{css_hover}</head>\n",
    "            <body>\n",
    "                <h2>{subject_email}</h2>\n",
    "                \n",
    "                <p>{procedimentos_duplicados_html}</p>\n",
    "                <p>Eu vim para te mandar mensagens, mua ha ha</p>\n",
    "            </body>\n",
    "        </html>\n",
    "        \"\"\"\n",
    "        msg.attach(MIMEText(body, 'html'))\n",
    "        \n",
    "        # Anexando o arquivo Excel\n",
    "        part = MIMEBase('application', 'octet-stream')\n",
    "        part.set_payload(excel_file.read())\n",
    "        encoders.encode_base64(part)\n",
    "        part.add_header(\n",
    "            'Content-Disposition',\n",
    "            f'attachment; filename=\"procedimentos_duplicados.xlsx\"'\n",
    "        )\n",
    "        msg.attach(part)\n",
    "        \n",
    "        # Enviar o e-mail\n",
    "        with smtplib.SMTP(server_email, port_email) as server:\n",
    "            server.starttls()\n",
    "            server.login(username_email, password_email)\n",
    "            server.send_message(msg)\n",
    "        print(f\"{subject_email}\")\n",
    "        \n",
    "    except Exception as e:\n",
    "        print(f\"Erro ao enviar o e-mail: {e}\")\n",
    "\n",
    "enviar_email_protocolos_procedimentos_duplicados()"
   ]
  },
  {
   "cell_type": "code",
   "execution_count": null,
   "metadata": {},
   "outputs": [],
   "source": []
  }
 ],
 "metadata": {
  "kernelspec": {
   "display_name": "venv",
   "language": "python",
   "name": "python3"
  },
  "language_info": {
   "codemirror_mode": {
    "name": "ipython",
    "version": 3
   },
   "file_extension": ".py",
   "mimetype": "text/x-python",
   "name": "python",
   "nbconvert_exporter": "python",
   "pygments_lexer": "ipython3",
   "version": "3.12.5"
  }
 },
 "nbformat": 4,
 "nbformat_minor": 2
}
