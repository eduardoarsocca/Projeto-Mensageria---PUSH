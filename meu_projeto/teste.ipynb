{
 "cells": [
  {
   "cell_type": "code",
   "execution_count": null,
   "metadata": {},
   "outputs": [
    {
     "ename": "ModuleNotFoundError",
     "evalue": "No module named 'dotenv'",
     "output_type": "error",
     "traceback": [
      "\u001b[1;31m---------------------------------------------------------------------------\u001b[0m",
      "\u001b[1;31mModuleNotFoundError\u001b[0m                       Traceback (most recent call last)",
      "Cell \u001b[1;32mIn[1], line 16\u001b[0m\n\u001b[0;32m     14\u001b[0m \u001b[38;5;28;01mimport\u001b[39;00m \u001b[38;5;21;01mplotly\u001b[39;00m\u001b[38;5;21;01m.\u001b[39;00m\u001b[38;5;21;01mgraph_objects\u001b[39;00m \u001b[38;5;28;01mas\u001b[39;00m \u001b[38;5;21;01mgo\u001b[39;00m\n\u001b[0;32m     15\u001b[0m \u001b[38;5;28;01mimport\u001b[39;00m \u001b[38;5;21;01mos\u001b[39;00m\n\u001b[1;32m---> 16\u001b[0m \u001b[38;5;28;01mfrom\u001b[39;00m \u001b[38;5;21;01mdotenv\u001b[39;00m \u001b[38;5;28;01mimport\u001b[39;00m load_dotenv\n\u001b[0;32m     17\u001b[0m \u001b[38;5;28;01mimport\u001b[39;00m \u001b[38;5;21;01mrequests\u001b[39;00m\n\u001b[0;32m     18\u001b[0m \u001b[38;5;28;01mfrom\u001b[39;00m \u001b[38;5;21;01murllib\u001b[39;00m\u001b[38;5;21;01m.\u001b[39;00m\u001b[38;5;21;01mparse\u001b[39;00m \u001b[38;5;28;01mimport\u001b[39;00m urljoin\n",
      "\u001b[1;31mModuleNotFoundError\u001b[0m: No module named 'dotenv'"
     ]
    }
   ],
   "source": [
    "# TODO: Bibliotecas\n",
    "\n",
    "import smtplib\n",
    "from email.mime.multipart import MIMEMultipart\n",
    "from email.mime.text import MIMEText\n",
    "from email.mime.image import MIMEImage\n",
    "from email.mime.base import MIMEBase\n",
    "from email import encoders\n",
    "import pandas as pd\n",
    "import numpy as np\n",
    "import matplotlib.pyplot as plt\n",
    "import seaborn as sns\n",
    "import plotly.express as px\n",
    "import plotly.graph_objects as go\n",
    "import os\n",
    "from dotenv import load_dotenv\n",
    "import requests\n",
    "from urllib.parse import urljoin\n",
    "from datetime import datetime, timedelta\n",
    "import io\n",
    "from io import BytesIO\n",
    "import base64\n",
    "from email.mime.image import MIMEImage\n",
    "import openpyxl\n",
    "import time\n",
    "import unicodedata\n",
    "\n"
   ]
  },
  {
   "cell_type": "code",
   "execution_count": null,
   "metadata": {},
   "outputs": [],
   "source": [
    "# TODO: Início do timer\n",
    "start_time = time.time()\n",
    "\n",
    "print(\"Iniciando a execução do projeto...\")\n",
    "for i in range (1000000):\n",
    "    pass\n",
    "        \n",
    "\n",
    "\n",
    "#----------------------------------------------------------------------------------------------- \n",
    "# TODO: Carregar as variáveis de ambiente\n",
    "load_dotenv(override=True)\n",
    "\n",
    "\n",
    "api_username = os.getenv('API_USERNAME')\n",
    "api_password = os.getenv('API_PASSWORD')\n",
    "api_url = os.getenv(\"API_URL\")\n",
    "\n",
    "# TODO: Configurações do e-mail\n",
    "enviar_para = os.getenv('DESTINATARIO')\n",
    "print(f\"Valor original do DESTINATARIO: {enviar_para}\")\n",
    "if enviar_para:\n",
    "    enviar_para = [email.strip() for email in enviar_para.split(',')]\n",
    "else:\n",
    "    enviar_para = []\n",
    "username_email = os.getenv('EMAIL_USERNAME')\n",
    "password_email = os.getenv('EMAIL_PASSWORD')\n",
    "server_email = os.getenv('EMAIL_SERVER')\n",
    "port_email = int(os.getenv('EMAIL_PORT'))\n",
    "\n",
    "\n",
    "# TODO: variáveis de período\n",
    "mes_atual = datetime.now().month - 0 \n",
    "ano_atual = datetime.now().year\n",
    "ano_anterior = datetime.now().year - 1\n",
    "proximas_duas_semanas = (datetime.now()+timedelta(days=15)).strftime('%Y-%m-%d')\n",
    "duas_ultimas_semanas = (datetime.now()-timedelta(days=15))\n",
    "ultima_semana = (datetime.now() - timedelta(days=7))\n",
    "proxima_semana = (datetime.now()+timedelta(days=7))\n",
    "amanha = (datetime.now()+timedelta(days=0))\n",
    "ontem = (datetime.now()-timedelta(days=1))"
   ]
  },
  {
   "cell_type": "code",
   "execution_count": 32,
   "metadata": {},
   "outputs": [],
   "source": [
    "def extrair_ultima_informacao(x):\n",
    "    if x is None:\n",
    "        return None\n",
    "    else:\n",
    "        values_list = list(x.values())\n",
    "        if len(values_list) == 0:\n",
    "            return None\n",
    "        else:\n",
    "            return values_list[-1]\n",
    "\n",
    "\n",
    "def extrair_segunda_informacao(x):\n",
    "    if x is None:\n",
    "        return None\n",
    "    else:\n",
    "        values_list = list(x.values())\n",
    "        if len(values_list) == 0:\n",
    "            return None\n",
    "        else:\n",
    "            return values_list[1]\n",
    "        \n",
    "def extrair_terceira_informacao(x):\n",
    "    if x is None:\n",
    "        return None\n",
    "    else:\n",
    "        values_list = list(x.values())\n",
    "        if len(values_list) == 0:\n",
    "            return None\n",
    "        else:\n",
    "            return values_list[2] if len(values_list) > 2 else None\n",
    "\n",
    "        \n",
    "def extrair_apelido_protocolo(x):\n",
    "    if x is None:\n",
    "        return None\n",
    "    elif 'apelido_protocolo' in x:\n",
    "        return x['apelido_protocolo']\n",
    "    else:\n",
    "        return None\n",
    "    \n",
    "    \n",
    "def extrair_campo(x, *chaves):\n",
    "# \"\"\"\n",
    "# Extrai um campo aninhado de um dicionário dado um conjunto de chaves.\n",
    "# :param x: O dicionário de entrada.\n",
    "# :param chaves: Chaves para navegar no dicionário.\n",
    "# :return: O valor extraído ou None se a navegação falhar.\n",
    "# \"\"\"\n",
    "    if isinstance(x, dict):\n",
    "        for chave in chaves:\n",
    "            x = x.get(chave)\n",
    "            if x is None:\n",
    "                return None\n",
    "        return x\n",
    "    return None\n",
    "\n",
    "#------------------------------------------SEÇÃO--------------------------------------\n",
    "# TODO: API \n",
    "# Corpo do login a ser utilizado no acesso\n",
    "body = {\n",
    "    \"nome\": api_username,\n",
    "    \"password\":api_password\n",
    "}\n",
    "\n",
    "# Obtençao do token de acesso à polotrial\n",
    "auth_url = urljoin(api_url, \"/sessions\")\n",
    "\n",
    "response = requests.post(auth_url, json = body)\n",
    "\n",
    "# # Verificar a resposta\n",
    "# print(f\"Status Code: {response.status_code}\")\n",
    "# print(f\"Headers: {response.headers}\")\n",
    "# print(f\"Content: {response.text}\")\n",
    "\n",
    "# Extraindo o token\n",
    "token = response.json()[\"token\"]\n",
    "\n",
    "# Incorporando a string Bearer para inserir\n",
    "if token:\n",
    "    auth_token = \"Bearer \" + token\n",
    "else:\n",
    "    print(\"Falha ao obter o token.\")\n",
    "    \n",
    "headers = {\"Authorization\": auth_token}"
   ]
  },
  {
   "cell_type": "code",
   "execution_count": 33,
   "metadata": {},
   "outputs": [],
   "source": [
    "link = 'https://api.polotrial.com/protocolo?nested=true'"
   ]
  },
  {
   "cell_type": "code",
   "execution_count": 34,
   "metadata": {},
   "outputs": [],
   "source": [
    "#TODO: Acesso Participantes_visita (Agenda)\n",
    "rota_protocolo = link.replace('$idProtocol', '1182')\n",
    "df_protocolo = requests.get(rota_protocolo, headers=headers).json()\n",
    "df_protocolo = pd.DataFrame(df_protocolo)"
   ]
  },
  {
   "cell_type": "code",
   "execution_count": 35,
   "metadata": {},
   "outputs": [],
   "source": [
    "dim_protocolo = df_protocolo.copy()\n"
   ]
  },
  {
   "cell_type": "code",
   "execution_count": 36,
   "metadata": {},
   "outputs": [
    {
     "data": {
      "text/html": [
       "<div>\n",
       "<style scoped>\n",
       "    .dataframe tbody tr th:only-of-type {\n",
       "        vertical-align: middle;\n",
       "    }\n",
       "\n",
       "    .dataframe tbody tr th {\n",
       "        vertical-align: top;\n",
       "    }\n",
       "\n",
       "    .dataframe thead th {\n",
       "        text-align: right;\n",
       "    }\n",
       "</style>\n",
       "<table border=\"1\" class=\"dataframe\">\n",
       "  <thead>\n",
       "    <tr style=\"text-align: right;\">\n",
       "      <th></th>\n",
       "      <th>id</th>\n",
       "      <th>apelido_protocolo</th>\n",
       "      <th>dados_pi</th>\n",
       "      <th>dados_tipo_de_iniciativa</th>\n",
       "      <th>dados_patrocinador</th>\n",
       "      <th>dados_cro_responsavel</th>\n",
       "      <th>dados_status_protocolo</th>\n",
       "    </tr>\n",
       "  </thead>\n",
       "  <tbody>\n",
       "    <tr>\n",
       "      <th>0</th>\n",
       "      <td>4</td>\n",
       "      <td>BTK</td>\n",
       "      <td>Dr. Carlos Augusto Quadros</td>\n",
       "      <td>Patrocinador</td>\n",
       "      <td>Sorrento Therapeutics, Inc.</td>\n",
       "      <td>Synova</td>\n",
       "      <td>Concluído</td>\n",
       "    </tr>\n",
       "    <tr>\n",
       "      <th>1</th>\n",
       "      <td>5</td>\n",
       "      <td>BTK</td>\n",
       "      <td>Dra. Caroline Cândida Carvalho de Oliveira</td>\n",
       "      <td>Patrocinador</td>\n",
       "      <td>Sorrento Therapeutics, Inc.</td>\n",
       "      <td>Synova</td>\n",
       "      <td>Concluído</td>\n",
       "    </tr>\n",
       "    <tr>\n",
       "      <th>2</th>\n",
       "      <td>8</td>\n",
       "      <td>RIGEL-FOCUS</td>\n",
       "      <td>Dr. Paulo Roberto Rizzo Genestreti</td>\n",
       "      <td>Patrocinador</td>\n",
       "      <td>Rigel Pharmaceuticals, Inc</td>\n",
       "      <td>Worldwide Clinical Trials</td>\n",
       "      <td>Concluído</td>\n",
       "    </tr>\n",
       "    <tr>\n",
       "      <th>3</th>\n",
       "      <td>9</td>\n",
       "      <td>BIOTEST-998</td>\n",
       "      <td>Dra. Valéria Cristina Aguiar</td>\n",
       "      <td>Patrocinador</td>\n",
       "      <td>Biotest AG</td>\n",
       "      <td>IQVIA</td>\n",
       "      <td>Concluído</td>\n",
       "    </tr>\n",
       "    <tr>\n",
       "      <th>4</th>\n",
       "      <td>10</td>\n",
       "      <td>GARDEN</td>\n",
       "      <td>Dr. Eduardo Ramacciotti</td>\n",
       "      <td>Patrocinador</td>\n",
       "      <td>ACTICOR BIOTECH</td>\n",
       "      <td>Clinergy Health</td>\n",
       "      <td>Concluído</td>\n",
       "    </tr>\n",
       "  </tbody>\n",
       "</table>\n",
       "</div>"
      ],
      "text/plain": [
       "   id apelido_protocolo                                    dados_pi  \\\n",
       "0   4               BTK                  Dr. Carlos Augusto Quadros   \n",
       "1   5               BTK  Dra. Caroline Cândida Carvalho de Oliveira   \n",
       "2   8       RIGEL-FOCUS          Dr. Paulo Roberto Rizzo Genestreti   \n",
       "3   9       BIOTEST-998                Dra. Valéria Cristina Aguiar   \n",
       "4  10            GARDEN                     Dr. Eduardo Ramacciotti   \n",
       "\n",
       "  dados_tipo_de_iniciativa           dados_patrocinador  \\\n",
       "0             Patrocinador  Sorrento Therapeutics, Inc.   \n",
       "1             Patrocinador  Sorrento Therapeutics, Inc.   \n",
       "2             Patrocinador   Rigel Pharmaceuticals, Inc   \n",
       "3             Patrocinador                   Biotest AG   \n",
       "4             Patrocinador              ACTICOR BIOTECH   \n",
       "\n",
       "       dados_cro_responsavel dados_status_protocolo  \n",
       "0                     Synova              Concluído  \n",
       "1                     Synova              Concluído  \n",
       "2  Worldwide Clinical Trials              Concluído  \n",
       "3                      IQVIA              Concluído  \n",
       "4            Clinergy Health              Concluído  "
      ]
     },
     "execution_count": 36,
     "metadata": {},
     "output_type": "execute_result"
    }
   ],
   "source": [
    "colunas = ['dados_pi', 'dados_tipo_de_iniciativa', 'dados_patrocinador', 'dados_cro_responsavel', 'dados_status_protocolo']\n",
    "\n",
    "for coluna in colunas:\n",
    "    dim_protocolo[coluna] = dim_protocolo[coluna].apply(extrair_ultima_informacao)\n",
    "    \n",
    "dim_protocolo=dim_protocolo[['id', 'apelido_protocolo', 'dados_pi', 'dados_tipo_de_iniciativa', 'dados_patrocinador', 'dados_cro_responsavel', 'dados_status_protocolo']]\n",
    "\n",
    "dim_protocolo.head()"
   ]
  },
  {
   "cell_type": "code",
   "execution_count": null,
   "metadata": {},
   "outputs": [
    {
     "data": {
      "application/vnd.plotly.v1+json": {
       "config": {
        "plotlyServerURL": "https://plot.ly"
       },
       "data": [
        {
         "alignmentgroup": "True",
         "hovertemplate": "Número de protocolos=%{x}<br>Patrocinador=%{y}<extra></extra>",
         "legendgroup": "",
         "marker": {
          "color": "#636efa",
          "pattern": {
           "shape": ""
          }
         },
         "name": "",
         "offsetgroup": "",
         "orientation": "h",
         "showlegend": false,
         "textposition": "auto",
         "type": "bar",
         "x": [
          1,
          1,
          1,
          1,
          1,
          1,
          1,
          1,
          1,
          1,
          1,
          1,
          1,
          1,
          1,
          1,
          1,
          1,
          1,
          1,
          1,
          1,
          1,
          1,
          1,
          1,
          1,
          1,
          1,
          1,
          1,
          1,
          1,
          1,
          1,
          1,
          1,
          1,
          1,
          1,
          1,
          2,
          2,
          2,
          2,
          2,
          2,
          2,
          2,
          2,
          2,
          2,
          2,
          2,
          2,
          3,
          3,
          3,
          3,
          3,
          3,
          3,
          3,
          3,
          3,
          3,
          3,
          3,
          4,
          4,
          4,
          4,
          4,
          4,
          4,
          4,
          5,
          5,
          5,
          5,
          5,
          5,
          5,
          5,
          6,
          6,
          6,
          6,
          6,
          6,
          6,
          7,
          7,
          7,
          7,
          8,
          8,
          8,
          8,
          8,
          9,
          9,
          9,
          9,
          9,
          9,
          10,
          10,
          10,
          11,
          11,
          11,
          11,
          11,
          13,
          13,
          14,
          14,
          14,
          14,
          14,
          14,
          16,
          17,
          18,
          19,
          20,
          21,
          22,
          26
         ],
         "xaxis": "x",
         "y": [
          "Biogen Idec MA Inc",
          "Bausch Health Americas",
          "Polpharma Biologics S.A. ",
          "Incyte",
          "Shionogi",
          "Genentech",
          "Horizon Therapeutics",
          "Atea Pharmaceuticals, Inc.",
          "Code Pharma",
          "EOM Pharmaceuticals (EOM) ",
          "LEO Pharma A/S",
          "Laboratório Pardes",
          "EFEOM NUTRICAO S.A",
          "Modern Biosciences",
          "United Therapeutics Corporation",
          "Bruna Aparecida Souza Machado",
          "Pliant Therapeutics ",
          "Aspen Pharma Indústria Farmacêutica LTDA",
          "Daiichi Sankyo Brasil Farmacêutica ",
          "Cordcell Centro de Terapia Celular",
          "ICON Pesquisas Clínicas",
          "Centro de Estudos Dr. Geraldo Maria de Camargo Madeira",
          "CEMEC",
          "Freedom for All Diagnostics",
          "Codagenix Inc.",
          "Althaia",
          "AB SCIENCE",
          "Silimed LTDA",
          "AbbVie",
          "Brazilian Clinical Research Institute",
          "Adeste",
          "Keros Therapeutics, Inc. ",
          "Alvotech ",
          "Novo Nordisk Farmacêutica do Brasil Ltda",
          "Daiichi Sankyo",
          "Amorphical",
          "Rigel Pharmaceuticals, Inc",
          "ACTICOR BIOTECH",
          "Zymeworks",
          "Libbs",
          "Stinpharma",
          "Pulmocide",
          "Roche",
          "Bios",
          "Frontier Biotechnologies Inc.",
          "Chiesi",
          "OBI Pharma Inc",
          "Cardinal Health",
          "VIR Biotechnology",
          "CSL Behring LLC (CSLB)",
          "Oppilan Pharma Ltd.",
          "Bazell Pharma AG",
          "Biophytis",
          "Avalyn Pharma Inc",
          "BRISTOL-MYERS SQUIBB FARMACÊUTICA LTDA",
          " Suzhou Kintor Pharmaceuticals. ",
          "Bayer S.A",
          "EirGenix, Inc",
          "Linda LifeTech",
          "Colorado Prevention Center",
          "Regeneron Pharmaceuticals, Inc.",
          "Athersys, Inc.",
          "Daichii Sankyo Brasil",
          " Milestone Pharmaceuticals Inc.",
          "MEDICAGO",
          "Servier",
          "KNOPP - Biosciences",
          "Abivax",
          "NC Farma/EMS",
          "Debiopharm International SA",
          "Instituto Butantan",
          "Esperon",
          "AstraZeneca",
          "Gilead",
          "Jiangsu Pacific Meinuoke Biopharmaceutical",
          "Celldex Therapeutics",
          "Olema Pharmaceuticals",
          "Enanta Pharmaceuticals, Inc.",
          "Novavax",
          "Cambridge University Hospitals NHS Foundation Trust",
          "Cardiol Therapeutics",
          "Brainfarma Indústria Química Farmacêutica S/A",
          "Turning Point Therapeutics, Inc.",
          "Spero Therapeutics",
          "Areteria Therapeutics",
          "Marjan Indústria e Comércio Ltda.",
          "Cristália Produtos Químicos Farmacêuticos",
          "Sorrento Therapeutics, Inc.",
          "ProKidney",
          "Takeda Pharma Ltda",
          "Cinclus Pharma",
          "Acticor Biotech",
          "DiaMedica Therapeutics, Inc.",
          "BRIM Biotechnology, Inc.",
          "Merck Sharp & Dohme Corp",
          "Alpine Immune Science, Inc.",
          "BicycleTx Ltd",
          "Gilead Sciences, Inc.",
          "Pharmasintez-Nord JSC",
          "NA",
          "EMS",
          "Intercept Pharmaceuticals, Inc.",
          "Laboratórios Ferring Ltda.",
          "Janssen Research & Development, LLC",
          "89bio, Inc.",
          "Basilea Pharmaceutica International Ltd",
          "Janssen Research & Development",
          "Biotest AG",
          "Amgen",
          "Jazz Pharmaceuticals",
          "Abbott",
          "Lexicon Pharmaceuticals, Inc.",
          "Viridian Therapeutics, Inc.",
          "Boehringer Ingelheim",
          "Pfizer",
          "Eli Lilly",
          " Novo Nordisk",
          "Kartos Therapeutics, Inc.",
          "F. Hoffmann-La Roche Ltd",
          "Arrowhead Pharmaceuticals",
          "Bayer",
          "Ache",
          "IP-HCOR",
          "SVRI ",
          "Johnson & Johnson",
          "Novartis",
          "Eurofarma",
          "GlaxoSmithKline",
          "Sanofi-Aventis Farmacêutica Ltda",
          "Sanofi"
         ],
         "yaxis": "y"
        }
       ],
       "layout": {
        "barmode": "relative",
        "legend": {
         "tracegroupgap": 0
        },
        "template": {
         "data": {
          "bar": [
           {
            "error_x": {
             "color": "#f2f5fa"
            },
            "error_y": {
             "color": "#f2f5fa"
            },
            "marker": {
             "line": {
              "color": "rgb(17,17,17)",
              "width": 0.5
             },
             "pattern": {
              "fillmode": "overlay",
              "size": 10,
              "solidity": 0.2
             }
            },
            "type": "bar"
           }
          ],
          "barpolar": [
           {
            "marker": {
             "line": {
              "color": "rgb(17,17,17)",
              "width": 0.5
             },
             "pattern": {
              "fillmode": "overlay",
              "size": 10,
              "solidity": 0.2
             }
            },
            "type": "barpolar"
           }
          ],
          "carpet": [
           {
            "aaxis": {
             "endlinecolor": "#A2B1C6",
             "gridcolor": "#506784",
             "linecolor": "#506784",
             "minorgridcolor": "#506784",
             "startlinecolor": "#A2B1C6"
            },
            "baxis": {
             "endlinecolor": "#A2B1C6",
             "gridcolor": "#506784",
             "linecolor": "#506784",
             "minorgridcolor": "#506784",
             "startlinecolor": "#A2B1C6"
            },
            "type": "carpet"
           }
          ],
          "choropleth": [
           {
            "colorbar": {
             "outlinewidth": 0,
             "ticks": ""
            },
            "type": "choropleth"
           }
          ],
          "contour": [
           {
            "colorbar": {
             "outlinewidth": 0,
             "ticks": ""
            },
            "colorscale": [
             [
              0,
              "#0d0887"
             ],
             [
              0.1111111111111111,
              "#46039f"
             ],
             [
              0.2222222222222222,
              "#7201a8"
             ],
             [
              0.3333333333333333,
              "#9c179e"
             ],
             [
              0.4444444444444444,
              "#bd3786"
             ],
             [
              0.5555555555555556,
              "#d8576b"
             ],
             [
              0.6666666666666666,
              "#ed7953"
             ],
             [
              0.7777777777777778,
              "#fb9f3a"
             ],
             [
              0.8888888888888888,
              "#fdca26"
             ],
             [
              1,
              "#f0f921"
             ]
            ],
            "type": "contour"
           }
          ],
          "contourcarpet": [
           {
            "colorbar": {
             "outlinewidth": 0,
             "ticks": ""
            },
            "type": "contourcarpet"
           }
          ],
          "heatmap": [
           {
            "colorbar": {
             "outlinewidth": 0,
             "ticks": ""
            },
            "colorscale": [
             [
              0,
              "#0d0887"
             ],
             [
              0.1111111111111111,
              "#46039f"
             ],
             [
              0.2222222222222222,
              "#7201a8"
             ],
             [
              0.3333333333333333,
              "#9c179e"
             ],
             [
              0.4444444444444444,
              "#bd3786"
             ],
             [
              0.5555555555555556,
              "#d8576b"
             ],
             [
              0.6666666666666666,
              "#ed7953"
             ],
             [
              0.7777777777777778,
              "#fb9f3a"
             ],
             [
              0.8888888888888888,
              "#fdca26"
             ],
             [
              1,
              "#f0f921"
             ]
            ],
            "type": "heatmap"
           }
          ],
          "heatmapgl": [
           {
            "colorbar": {
             "outlinewidth": 0,
             "ticks": ""
            },
            "colorscale": [
             [
              0,
              "#0d0887"
             ],
             [
              0.1111111111111111,
              "#46039f"
             ],
             [
              0.2222222222222222,
              "#7201a8"
             ],
             [
              0.3333333333333333,
              "#9c179e"
             ],
             [
              0.4444444444444444,
              "#bd3786"
             ],
             [
              0.5555555555555556,
              "#d8576b"
             ],
             [
              0.6666666666666666,
              "#ed7953"
             ],
             [
              0.7777777777777778,
              "#fb9f3a"
             ],
             [
              0.8888888888888888,
              "#fdca26"
             ],
             [
              1,
              "#f0f921"
             ]
            ],
            "type": "heatmapgl"
           }
          ],
          "histogram": [
           {
            "marker": {
             "pattern": {
              "fillmode": "overlay",
              "size": 10,
              "solidity": 0.2
             }
            },
            "type": "histogram"
           }
          ],
          "histogram2d": [
           {
            "colorbar": {
             "outlinewidth": 0,
             "ticks": ""
            },
            "colorscale": [
             [
              0,
              "#0d0887"
             ],
             [
              0.1111111111111111,
              "#46039f"
             ],
             [
              0.2222222222222222,
              "#7201a8"
             ],
             [
              0.3333333333333333,
              "#9c179e"
             ],
             [
              0.4444444444444444,
              "#bd3786"
             ],
             [
              0.5555555555555556,
              "#d8576b"
             ],
             [
              0.6666666666666666,
              "#ed7953"
             ],
             [
              0.7777777777777778,
              "#fb9f3a"
             ],
             [
              0.8888888888888888,
              "#fdca26"
             ],
             [
              1,
              "#f0f921"
             ]
            ],
            "type": "histogram2d"
           }
          ],
          "histogram2dcontour": [
           {
            "colorbar": {
             "outlinewidth": 0,
             "ticks": ""
            },
            "colorscale": [
             [
              0,
              "#0d0887"
             ],
             [
              0.1111111111111111,
              "#46039f"
             ],
             [
              0.2222222222222222,
              "#7201a8"
             ],
             [
              0.3333333333333333,
              "#9c179e"
             ],
             [
              0.4444444444444444,
              "#bd3786"
             ],
             [
              0.5555555555555556,
              "#d8576b"
             ],
             [
              0.6666666666666666,
              "#ed7953"
             ],
             [
              0.7777777777777778,
              "#fb9f3a"
             ],
             [
              0.8888888888888888,
              "#fdca26"
             ],
             [
              1,
              "#f0f921"
             ]
            ],
            "type": "histogram2dcontour"
           }
          ],
          "mesh3d": [
           {
            "colorbar": {
             "outlinewidth": 0,
             "ticks": ""
            },
            "type": "mesh3d"
           }
          ],
          "parcoords": [
           {
            "line": {
             "colorbar": {
              "outlinewidth": 0,
              "ticks": ""
             }
            },
            "type": "parcoords"
           }
          ],
          "pie": [
           {
            "automargin": true,
            "type": "pie"
           }
          ],
          "scatter": [
           {
            "marker": {
             "line": {
              "color": "#283442"
             }
            },
            "type": "scatter"
           }
          ],
          "scatter3d": [
           {
            "line": {
             "colorbar": {
              "outlinewidth": 0,
              "ticks": ""
             }
            },
            "marker": {
             "colorbar": {
              "outlinewidth": 0,
              "ticks": ""
             }
            },
            "type": "scatter3d"
           }
          ],
          "scattercarpet": [
           {
            "marker": {
             "colorbar": {
              "outlinewidth": 0,
              "ticks": ""
             }
            },
            "type": "scattercarpet"
           }
          ],
          "scattergeo": [
           {
            "marker": {
             "colorbar": {
              "outlinewidth": 0,
              "ticks": ""
             }
            },
            "type": "scattergeo"
           }
          ],
          "scattergl": [
           {
            "marker": {
             "line": {
              "color": "#283442"
             }
            },
            "type": "scattergl"
           }
          ],
          "scattermapbox": [
           {
            "marker": {
             "colorbar": {
              "outlinewidth": 0,
              "ticks": ""
             }
            },
            "type": "scattermapbox"
           }
          ],
          "scatterpolar": [
           {
            "marker": {
             "colorbar": {
              "outlinewidth": 0,
              "ticks": ""
             }
            },
            "type": "scatterpolar"
           }
          ],
          "scatterpolargl": [
           {
            "marker": {
             "colorbar": {
              "outlinewidth": 0,
              "ticks": ""
             }
            },
            "type": "scatterpolargl"
           }
          ],
          "scatterternary": [
           {
            "marker": {
             "colorbar": {
              "outlinewidth": 0,
              "ticks": ""
             }
            },
            "type": "scatterternary"
           }
          ],
          "surface": [
           {
            "colorbar": {
             "outlinewidth": 0,
             "ticks": ""
            },
            "colorscale": [
             [
              0,
              "#0d0887"
             ],
             [
              0.1111111111111111,
              "#46039f"
             ],
             [
              0.2222222222222222,
              "#7201a8"
             ],
             [
              0.3333333333333333,
              "#9c179e"
             ],
             [
              0.4444444444444444,
              "#bd3786"
             ],
             [
              0.5555555555555556,
              "#d8576b"
             ],
             [
              0.6666666666666666,
              "#ed7953"
             ],
             [
              0.7777777777777778,
              "#fb9f3a"
             ],
             [
              0.8888888888888888,
              "#fdca26"
             ],
             [
              1,
              "#f0f921"
             ]
            ],
            "type": "surface"
           }
          ],
          "table": [
           {
            "cells": {
             "fill": {
              "color": "#506784"
             },
             "line": {
              "color": "rgb(17,17,17)"
             }
            },
            "header": {
             "fill": {
              "color": "#2a3f5f"
             },
             "line": {
              "color": "rgb(17,17,17)"
             }
            },
            "type": "table"
           }
          ]
         },
         "layout": {
          "annotationdefaults": {
           "arrowcolor": "#f2f5fa",
           "arrowhead": 0,
           "arrowwidth": 1
          },
          "autotypenumbers": "strict",
          "coloraxis": {
           "colorbar": {
            "outlinewidth": 0,
            "ticks": ""
           }
          },
          "colorscale": {
           "diverging": [
            [
             0,
             "#8e0152"
            ],
            [
             0.1,
             "#c51b7d"
            ],
            [
             0.2,
             "#de77ae"
            ],
            [
             0.3,
             "#f1b6da"
            ],
            [
             0.4,
             "#fde0ef"
            ],
            [
             0.5,
             "#f7f7f7"
            ],
            [
             0.6,
             "#e6f5d0"
            ],
            [
             0.7,
             "#b8e186"
            ],
            [
             0.8,
             "#7fbc41"
            ],
            [
             0.9,
             "#4d9221"
            ],
            [
             1,
             "#276419"
            ]
           ],
           "sequential": [
            [
             0,
             "#0d0887"
            ],
            [
             0.1111111111111111,
             "#46039f"
            ],
            [
             0.2222222222222222,
             "#7201a8"
            ],
            [
             0.3333333333333333,
             "#9c179e"
            ],
            [
             0.4444444444444444,
             "#bd3786"
            ],
            [
             0.5555555555555556,
             "#d8576b"
            ],
            [
             0.6666666666666666,
             "#ed7953"
            ],
            [
             0.7777777777777778,
             "#fb9f3a"
            ],
            [
             0.8888888888888888,
             "#fdca26"
            ],
            [
             1,
             "#f0f921"
            ]
           ],
           "sequentialminus": [
            [
             0,
             "#0d0887"
            ],
            [
             0.1111111111111111,
             "#46039f"
            ],
            [
             0.2222222222222222,
             "#7201a8"
            ],
            [
             0.3333333333333333,
             "#9c179e"
            ],
            [
             0.4444444444444444,
             "#bd3786"
            ],
            [
             0.5555555555555556,
             "#d8576b"
            ],
            [
             0.6666666666666666,
             "#ed7953"
            ],
            [
             0.7777777777777778,
             "#fb9f3a"
            ],
            [
             0.8888888888888888,
             "#fdca26"
            ],
            [
             1,
             "#f0f921"
            ]
           ]
          },
          "colorway": [
           "#636efa",
           "#EF553B",
           "#00cc96",
           "#ab63fa",
           "#FFA15A",
           "#19d3f3",
           "#FF6692",
           "#B6E880",
           "#FF97FF",
           "#FECB52"
          ],
          "font": {
           "color": "#f2f5fa"
          },
          "geo": {
           "bgcolor": "rgb(17,17,17)",
           "lakecolor": "rgb(17,17,17)",
           "landcolor": "rgb(17,17,17)",
           "showlakes": true,
           "showland": true,
           "subunitcolor": "#506784"
          },
          "hoverlabel": {
           "align": "left"
          },
          "hovermode": "closest",
          "mapbox": {
           "style": "dark"
          },
          "paper_bgcolor": "rgb(17,17,17)",
          "plot_bgcolor": "rgb(17,17,17)",
          "polar": {
           "angularaxis": {
            "gridcolor": "#506784",
            "linecolor": "#506784",
            "ticks": ""
           },
           "bgcolor": "rgb(17,17,17)",
           "radialaxis": {
            "gridcolor": "#506784",
            "linecolor": "#506784",
            "ticks": ""
           }
          },
          "scene": {
           "xaxis": {
            "backgroundcolor": "rgb(17,17,17)",
            "gridcolor": "#506784",
            "gridwidth": 2,
            "linecolor": "#506784",
            "showbackground": true,
            "ticks": "",
            "zerolinecolor": "#C8D4E3"
           },
           "yaxis": {
            "backgroundcolor": "rgb(17,17,17)",
            "gridcolor": "#506784",
            "gridwidth": 2,
            "linecolor": "#506784",
            "showbackground": true,
            "ticks": "",
            "zerolinecolor": "#C8D4E3"
           },
           "zaxis": {
            "backgroundcolor": "rgb(17,17,17)",
            "gridcolor": "#506784",
            "gridwidth": 2,
            "linecolor": "#506784",
            "showbackground": true,
            "ticks": "",
            "zerolinecolor": "#C8D4E3"
           }
          },
          "shapedefaults": {
           "line": {
            "color": "#f2f5fa"
           }
          },
          "sliderdefaults": {
           "bgcolor": "#C8D4E3",
           "bordercolor": "rgb(17,17,17)",
           "borderwidth": 1,
           "tickwidth": 0
          },
          "ternary": {
           "aaxis": {
            "gridcolor": "#506784",
            "linecolor": "#506784",
            "ticks": ""
           },
           "baxis": {
            "gridcolor": "#506784",
            "linecolor": "#506784",
            "ticks": ""
           },
           "bgcolor": "rgb(17,17,17)",
           "caxis": {
            "gridcolor": "#506784",
            "linecolor": "#506784",
            "ticks": ""
           }
          },
          "title": {
           "x": 0.05
          },
          "updatemenudefaults": {
           "bgcolor": "#506784",
           "borderwidth": 0
          },
          "xaxis": {
           "automargin": true,
           "gridcolor": "#283442",
           "linecolor": "#506784",
           "ticks": "",
           "title": {
            "standoff": 15
           },
           "zerolinecolor": "#283442",
           "zerolinewidth": 2
          },
          "yaxis": {
           "automargin": true,
           "gridcolor": "#283442",
           "linecolor": "#506784",
           "ticks": "",
           "title": {
            "standoff": 15
           },
           "zerolinecolor": "#283442",
           "zerolinewidth": 2
          }
         }
        },
        "title": {
         "text": "Número de protocolos por patrocinador"
        },
        "xaxis": {
         "anchor": "y",
         "domain": [
          0,
          1
         ],
         "title": {
          "text": "Número de protocolos"
         }
        },
        "yaxis": {
         "anchor": "x",
         "domain": [
          0,
          1
         ],
         "title": {
          "text": "Patrocinador"
         }
        }
       }
      }
     },
     "metadata": {},
     "output_type": "display_data"
    }
   ],
   "source": [
    "# # Gráfico de barras n° de protocolos x patrocinador\n",
    "# # contagem = dim_protocolo['dados_patrocinador'].value_counts().sort_values(ascending=True)\n",
    "# fig = px.bar(\n",
    "#     data_frame = dim_protocolo,\n",
    "#     y = dim_protocolo['dados_patrocinador'].value_counts().sort_values(ascending=True).index,\n",
    "#     x = dim_protocolo['dados_patrocinador'].value_counts().sort_values(ascending=True).values,\n",
    "#     title = 'Número de protocolos por patrocinador',\n",
    "#     labels = {'x' : 'Número de protocolos', 'y' : 'Patrocinador'},\n",
    "#     template = 'plotly_dark',\n",
    "#     orientation = 'h'\n",
    "# )\n",
    "# fig.show()"
   ]
  },
  {
   "cell_type": "code",
   "execution_count": null,
   "metadata": {},
   "outputs": [],
   "source": [
    "\n"
   ]
  }
 ],
 "metadata": {
  "kernelspec": {
   "display_name": "Python 3",
   "language": "python",
   "name": "python3"
  },
  "language_info": {
   "codemirror_mode": {
    "name": "ipython",
    "version": 3
   },
   "file_extension": ".py",
   "mimetype": "text/x-python",
   "name": "python",
   "nbconvert_exporter": "python",
   "pygments_lexer": "ipython3",
   "version": "3.12.5"
  }
 },
 "nbformat": 4,
 "nbformat_minor": 2
}
